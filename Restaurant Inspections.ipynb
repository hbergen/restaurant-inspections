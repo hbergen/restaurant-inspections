{
 "cells": [
  {
   "cell_type": "markdown",
   "metadata": {},
   "source": [
    "# Get the data "
   ]
  },
  {
   "cell_type": "code",
   "execution_count": 363,
   "metadata": {
    "collapsed": false
   },
   "outputs": [],
   "source": [
    "import requests\n",
    "import xml.etree.ElementTree as ET\n",
    "import pandas as pd"
   ]
  },
  {
   "cell_type": "code",
   "execution_count": 2,
   "metadata": {
    "collapsed": true
   },
   "outputs": [],
   "source": [
    "url = 'http://info.kingcounty.gov/health/ehs/foodsafety/inspections/XmlRest.aspx?Zip_Code=98109&Inspection_Start=1/1/2016&Inspection_End=12/31/2016'"
   ]
  },
  {
   "cell_type": "code",
   "execution_count": 379,
   "metadata": {
    "collapsed": false
   },
   "outputs": [],
   "source": [
    "response = requests.get(url)"
   ]
  },
  {
   "cell_type": "code",
   "execution_count": 385,
   "metadata": {
    "collapsed": true
   },
   "outputs": [],
   "source": [
    "root = ET.fromstring(response.content)"
   ]
  },
  {
   "cell_type": "code",
   "execution_count": 386,
   "metadata": {
    "collapsed": false
   },
   "outputs": [],
   "source": [
    "element = root.find('Disclaimer')\n",
    "root.remove(element)"
   ]
  },
  {
   "cell_type": "code",
   "execution_count": 387,
   "metadata": {
    "collapsed": false
   },
   "outputs": [],
   "source": [
    "name = []\n",
    "address = []\n",
    "city = []\n",
    "zip_code = []\n",
    "longitude = []\n",
    "latitude = []\n",
    "business_dict = {'Name': name, 'Address': address, 'City': city, 'Zip_Code': zip_code,\n",
    "                'Longitude': longitude, 'Latitude': latitude}"
   ]
  },
  {
   "cell_type": "code",
   "execution_count": 388,
   "metadata": {
    "collapsed": false
   },
   "outputs": [],
   "source": [
    "def get_element_text(attribute):\n",
    "    if business.find(attribute).text:\n",
    "        return business.find(attribute).text\n",
    "    else:\n",
    "        return None\n",
    "    \n",
    "    \n",
    "for i in range(0, len(root)):\n",
    "    business = root.getchildren()[i]\n",
    "    name.append(get_element_text('Name'))\n",
    "    address.append(get_element_text('Address'))\n",
    "    city.append(get_element_text('City'))\n",
    "    zip_code.append(get_element_text('Zip_Code'))\n",
    "    longitude.append(get_element_text('Longitude'))\n",
    "    latitude.append(get_element_text('Latitude'))"
   ]
  },
  {
   "cell_type": "code",
   "execution_count": 389,
   "metadata": {
    "collapsed": false
   },
   "outputs": [],
   "source": [
    "df = pd.DataFrame(business_dict)"
   ]
  },
  {
   "cell_type": "code",
   "execution_count": 390,
   "metadata": {
    "collapsed": false
   },
   "outputs": [
    {
     "data": {
      "text/html": [
       "<div>\n",
       "<table border=\"1\" class=\"dataframe\">\n",
       "  <thead>\n",
       "    <tr style=\"text-align: right;\">\n",
       "      <th></th>\n",
       "      <th>Address</th>\n",
       "      <th>City</th>\n",
       "      <th>Latitude</th>\n",
       "      <th>Longitude</th>\n",
       "      <th>Name</th>\n",
       "      <th>Zip_Code</th>\n",
       "    </tr>\n",
       "  </thead>\n",
       "  <tbody>\n",
       "    <tr>\n",
       "      <th>0</th>\n",
       "      <td>10 MERCER ST</td>\n",
       "      <td>Seattle</td>\n",
       "      <td>47.6250635431</td>\n",
       "      <td>-122.3561914741</td>\n",
       "      <td>10 MERCER RESTAURANT</td>\n",
       "      <td>98109</td>\n",
       "    </tr>\n",
       "    <tr>\n",
       "      <th>1</th>\n",
       "      <td>1001 FAIRVIEW AVE N Unit 1700A</td>\n",
       "      <td>SEATTLE</td>\n",
       "      <td>47.6290212900</td>\n",
       "      <td>-122.3317269400</td>\n",
       "      <td>100 LB CLAM</td>\n",
       "      <td>98109</td>\n",
       "    </tr>\n",
       "    <tr>\n",
       "      <th>2</th>\n",
       "      <td>125 BOREN AVE N</td>\n",
       "      <td>Seattle</td>\n",
       "      <td>47.6193632585</td>\n",
       "      <td>-122.3362285865</td>\n",
       "      <td>13 COINS</td>\n",
       "      <td>98109</td>\n",
       "    </tr>\n",
       "    <tr>\n",
       "      <th>3</th>\n",
       "      <td>1502 QUEEN ANNE AVE N</td>\n",
       "      <td>Seattle</td>\n",
       "      <td>47.6325265677</td>\n",
       "      <td>-122.3567239640</td>\n",
       "      <td>5-SPOT</td>\n",
       "      <td>98109</td>\n",
       "    </tr>\n",
       "    <tr>\n",
       "      <th>4</th>\n",
       "      <td>1607 QUEEN ANNE AVE N</td>\n",
       "      <td>SEATTLE</td>\n",
       "      <td>47.6338933536</td>\n",
       "      <td>-122.3573732534</td>\n",
       "      <td>7-ELEVEN STORE #14368A</td>\n",
       "      <td>98109</td>\n",
       "    </tr>\n",
       "  </tbody>\n",
       "</table>\n",
       "</div>"
      ],
      "text/plain": [
       "                          Address     City       Latitude        Longitude  \\\n",
       "0                    10 MERCER ST  Seattle  47.6250635431  -122.3561914741   \n",
       "1  1001 FAIRVIEW AVE N Unit 1700A  SEATTLE  47.6290212900  -122.3317269400   \n",
       "2                125 BOREN AVE N   Seattle  47.6193632585  -122.3362285865   \n",
       "3          1502 QUEEN ANNE AVE N   Seattle  47.6325265677  -122.3567239640   \n",
       "4          1607 QUEEN ANNE AVE N   SEATTLE  47.6338933536  -122.3573732534   \n",
       "\n",
       "                     Name Zip_Code  \n",
       "0    10 MERCER RESTAURANT    98109  \n",
       "1             100 LB CLAM    98109  \n",
       "2                13 COINS    98109  \n",
       "3                  5-SPOT    98109  \n",
       "4  7-ELEVEN STORE #14368A    98109  "
      ]
     },
     "execution_count": 390,
     "metadata": {},
     "output_type": "execute_result"
    }
   ],
   "source": [
    "df.head()"
   ]
  }
 ],
 "metadata": {
  "kernelspec": {
   "display_name": "Python 3",
   "language": "python",
   "name": "python3"
  },
  "language_info": {
   "codemirror_mode": {
    "name": "ipython",
    "version": 3
   },
   "file_extension": ".py",
   "mimetype": "text/x-python",
   "name": "python",
   "nbconvert_exporter": "python",
   "pygments_lexer": "ipython3",
   "version": "3.4.5"
  }
 },
 "nbformat": 4,
 "nbformat_minor": 0
}
