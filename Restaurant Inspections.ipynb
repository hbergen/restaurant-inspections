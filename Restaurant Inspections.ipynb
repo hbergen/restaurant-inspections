{
 "cells": [
  {
   "cell_type": "markdown",
   "metadata": {},
   "source": [
    "# Get the data "
   ]
  },
  {
   "cell_type": "code",
   "execution_count": 137,
   "metadata": {
    "collapsed": false
   },
   "outputs": [],
   "source": [
    "import requests\n",
    "import xml.etree.ElementTree as ET\n",
    "import pandas as pd"
   ]
  },
  {
   "cell_type": "code",
   "execution_count": 146,
   "metadata": {
    "collapsed": false
   },
   "outputs": [],
   "source": [
    "def get_data(**kwargs):\n",
    "    ''' Retrieve XML data using King County's API\n",
    "    \n",
    "        Kwargs\n",
    "        ======\n",
    "        Business_Name - string\n",
    "        Business_Address - string\n",
    "        Zip_Code - string\n",
    "        Inspection_Start - string with valid date in format MM/DD/YYYY\n",
    "        Inspection_End - string with valid date in format MM/DD/YYYY\n",
    "        Violation_Points - string with Integer <= 999\n",
    "        Violation_Red_Points - string with Integer <=999\n",
    "        City - string\n",
    "        \n",
    "        Example\n",
    "        =======\n",
    "        Returns inspection data in zip code 98101 since 1/1/2016\n",
    "        >>> url_formatter(Zip_Code='98101', Inspection_Start=1/1/2016)\n",
    "        \n",
    "        Notes\n",
    "        =====\n",
    "        The API appears to break using parameter Inspection_Closed_Business\n",
    "    '''\n",
    "    if kwargs == None:\n",
    "        print('Oh no! You forgot to select at least one parameter')\n",
    "        return\n",
    "        \n",
    "    else:\n",
    "        url = 'http://info.kingcounty.gov/health/ehs/foodsafety/inspections/XmlRest.aspx?'\n",
    "        for key in kwargs:\n",
    "            s = '='.join([key, kwargs[key]])\n",
    "            url = '&'.join([url, s])\n",
    "    # retrieve data\n",
    "    response = requests.get(url)\n",
    "    root = ET.fromstring(response.content)\n",
    "    # Remove the King County data disclaimer\n",
    "    element = root.find('Disclaimer')\n",
    "    root.remove(element)\n",
    "    return root"
   ]
  },
  {
   "cell_type": "code",
   "execution_count": 141,
   "metadata": {
    "collapsed": false
   },
   "outputs": [],
   "source": [
    "root = get_data(Zip_Code='98101', Inspection_Start='1/1/2016', Inspection_End='5/1/2016')"
   ]
  },
  {
   "cell_type": "code",
   "execution_count": 142,
   "metadata": {
    "collapsed": false
   },
   "outputs": [],
   "source": [
    "def get_element_text(attribute):\n",
    "    if business.find(attribute) is not None:\n",
    "        return business.find(attribute).text\n",
    "    else:\n",
    "        return None"
   ]
  },
  {
   "cell_type": "code",
   "execution_count": 143,
   "metadata": {
    "collapsed": false
   },
   "outputs": [],
   "source": [
    "name = []\n",
    "address = []\n",
    "city = []\n",
    "zip_code = []\n",
    "longitude = []\n",
    "latitude = []\n",
    "    \n",
    "# get all the things    \n",
    "for i in range(0, len(root)):\n",
    "    business = root.getchildren()[i]\n",
    "    name.append(get_element_text('Name'))\n",
    "    address.append(get_element_text('Address'))\n",
    "    city.append(get_element_text('City'))\n",
    "    zip_code.append(get_element_text('Zip_Code'))\n",
    "    longitude.append(get_element_text('Longitude'))\n",
    "    latitude.append(get_element_text('Latitude'))"
   ]
  },
  {
   "cell_type": "code",
   "execution_count": 144,
   "metadata": {
    "collapsed": false
   },
   "outputs": [],
   "source": [
    "business_dict = {'Name': name, 'Address': address, 'City': city, 'Zip_Code': zip_code,\n",
    "                'Longitude': longitude, 'Latitude': latitude}\n",
    "df = pd.DataFrame(business_dict)"
   ]
  },
  {
   "cell_type": "code",
   "execution_count": 145,
   "metadata": {
    "collapsed": false
   },
   "outputs": [
    {
     "data": {
      "text/html": [
       "<div>\n",
       "<table border=\"1\" class=\"dataframe\">\n",
       "  <thead>\n",
       "    <tr style=\"text-align: right;\">\n",
       "      <th></th>\n",
       "      <th>Address</th>\n",
       "      <th>City</th>\n",
       "      <th>Latitude</th>\n",
       "      <th>Longitude</th>\n",
       "      <th>Name</th>\n",
       "      <th>Zip_Code</th>\n",
       "    </tr>\n",
       "  </thead>\n",
       "  <tbody>\n",
       "    <tr>\n",
       "      <th>0</th>\n",
       "      <td>1908 3RD AVE</td>\n",
       "      <td>Seattle</td>\n",
       "      <td>47.6120226711</td>\n",
       "      <td>-122.3399331044</td>\n",
       "      <td>3RD AVE CAFE</td>\n",
       "      <td>98101</td>\n",
       "    </tr>\n",
       "    <tr>\n",
       "      <th>1</th>\n",
       "      <td>1524 3RD AVE</td>\n",
       "      <td>SEATTLE</td>\n",
       "      <td>47.6105993100</td>\n",
       "      <td>-122.3380513100</td>\n",
       "      <td>7-ELEVEN #36683A</td>\n",
       "      <td>98101</td>\n",
       "    </tr>\n",
       "    <tr>\n",
       "      <th>2</th>\n",
       "      <td>1830 MINOR AVE</td>\n",
       "      <td>Seattle</td>\n",
       "      <td>47.6172086272</td>\n",
       "      <td>-122.3308116303</td>\n",
       "      <td>ALFI'S FOOD &amp; DELI</td>\n",
       "      <td>98101</td>\n",
       "    </tr>\n",
       "    <tr>\n",
       "      <th>3</th>\n",
       "      <td>1517 PIKE PL</td>\n",
       "      <td>SEATTLE</td>\n",
       "      <td>47.6086943588</td>\n",
       "      <td>-122.3408823957</td>\n",
       "      <td>ATHENIAN INN</td>\n",
       "      <td>98101</td>\n",
       "    </tr>\n",
       "    <tr>\n",
       "      <th>4</th>\n",
       "      <td>1420 5TH AVE STE 1700</td>\n",
       "      <td>SEATTLE</td>\n",
       "      <td>None</td>\n",
       "      <td>None</td>\n",
       "      <td>AVANTI MARKETS NW @ GBRE</td>\n",
       "      <td>98101</td>\n",
       "    </tr>\n",
       "  </tbody>\n",
       "</table>\n",
       "</div>"
      ],
      "text/plain": [
       "                 Address     City       Latitude        Longitude  \\\n",
       "0          1908 3RD AVE   Seattle  47.6120226711  -122.3399331044   \n",
       "1           1524 3RD AVE  SEATTLE  47.6105993100  -122.3380513100   \n",
       "2         1830 MINOR AVE  Seattle  47.6172086272  -122.3308116303   \n",
       "3           1517 PIKE PL  SEATTLE  47.6086943588  -122.3408823957   \n",
       "4  1420 5TH AVE STE 1700  SEATTLE           None             None   \n",
       "\n",
       "                       Name Zip_Code  \n",
       "0              3RD AVE CAFE    98101  \n",
       "1          7-ELEVEN #36683A    98101  \n",
       "2        ALFI'S FOOD & DELI    98101  \n",
       "3              ATHENIAN INN    98101  \n",
       "4  AVANTI MARKETS NW @ GBRE    98101  "
      ]
     },
     "execution_count": 145,
     "metadata": {},
     "output_type": "execute_result"
    }
   ],
   "source": [
    "df.head()"
   ]
  },
  {
   "cell_type": "code",
   "execution_count": null,
   "metadata": {
    "collapsed": true
   },
   "outputs": [],
   "source": []
  }
 ],
 "metadata": {
  "kernelspec": {
   "display_name": "Python 3",
   "language": "python",
   "name": "python3"
  },
  "language_info": {
   "codemirror_mode": {
    "name": "ipython",
    "version": 3
   },
   "file_extension": ".py",
   "mimetype": "text/x-python",
   "name": "python",
   "nbconvert_exporter": "python",
   "pygments_lexer": "ipython3",
   "version": "3.4.5"
  }
 },
 "nbformat": 4,
 "nbformat_minor": 0
}
