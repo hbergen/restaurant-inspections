{
 "cells": [
  {
   "cell_type": "markdown",
   "metadata": {},
   "source": [
    "# Contents<a id=\"top\"></a>\n",
    "\n",
    "* <a href=\"#data\">Get the data</a>"
   ]
  },
  {
   "cell_type": "markdown",
   "metadata": {},
   "source": [
    "## Get the data<a id=\"data\"></id>\n",
    "[<a href=\"#top\">back to top</a>]"
   ]
  },
  {
   "cell_type": "code",
   "execution_count": 277,
   "metadata": {
    "collapsed": false
   },
   "outputs": [],
   "source": [
    "import requests\n",
    "import xml.etree.ElementTree as ET\n",
    "import pandas as pd"
   ]
  },
  {
   "cell_type": "code",
   "execution_count": 278,
   "metadata": {
    "collapsed": false
   },
   "outputs": [],
   "source": [
    "def get_xml(**kwargs):\n",
    "    ''' Returns root XML tree structure using King County's API\n",
    "    \n",
    "        Kwargs\n",
    "        ======\n",
    "        Business_Name - string\n",
    "        Business_Address - string\n",
    "        Zip_Code - string\n",
    "        Inspection_Start - string with valid date in format MM/DD/YYYY\n",
    "        Inspection_End - string with valid date in format MM/DD/YYYY\n",
    "        Violation_Points - string with Integer <= 999\n",
    "        Violation_Red_Points - string with Integer <=999\n",
    "        City - string\n",
    "        \n",
    "        Example\n",
    "        =======\n",
    "        Returns inspection data in zip code 98101 since 1/1/2016\n",
    "        >>> get_data(Zip_Code='98101', Inspection_Start=1/1/2016)\n",
    "        \n",
    "        Notes\n",
    "        =====\n",
    "        The API appears to break using parameter Inspection_Closed_Business\n",
    "    '''\n",
    "    if kwargs == None:\n",
    "        print('Oh no! You forgot to select at least one parameter')\n",
    "        return\n",
    "        \n",
    "    else:\n",
    "        url = 'http://info.kingcounty.gov/health/ehs/foodsafety/inspections/XmlRest.aspx?'\n",
    "        for key in kwargs:\n",
    "            s = '='.join([key, kwargs[key]])\n",
    "            url = '&'.join([url, s])\n",
    "    # retrieve data\n",
    "    response = requests.get(url)\n",
    "    root = ET.fromstring(response.content)\n",
    "    # Remove the King County data disclaimer\n",
    "    disclaimer_element = root.find('Disclaimer')\n",
    "    root.remove(disclaimer_element)\n",
    "    return root"
   ]
  },
  {
   "cell_type": "code",
   "execution_count": 543,
   "metadata": {
    "collapsed": false
   },
   "outputs": [],
   "source": [
    "# get some data that would select Toulouse Petit\n",
    "root = get_xml(Zip_Code='98109', Inspection_Start='1/1/2016', Inspection_End='12/31/2016')"
   ]
  },
  {
   "cell_type": "code",
   "execution_count": 620,
   "metadata": {
    "collapsed": false
   },
   "outputs": [],
   "source": [
    "business = root[339] # toulouse petit"
   ]
  },
  {
   "cell_type": "code",
   "execution_count": 544,
   "metadata": {
    "collapsed": true
   },
   "outputs": [],
   "source": [
    "def get_attribute(node, attribute):\n",
    "    if node.find(attribute) is not None:\n",
    "        return node.find(attribute).text\n",
    "    else:\n",
    "        return None"
   ]
  },
  {
   "cell_type": "code",
   "execution_count": 633,
   "metadata": {
    "collapsed": false
   },
   "outputs": [
    {
     "name": "stdout",
     "output_type": "stream",
     "text": [
      "TOULOUSE PETIT KITCHEN & LOUNGE 09/27/2016 None\n",
      "TOULOUSE PETIT KITCHEN & LOUNGE 09/22/2016 RED\n",
      "TOULOUSE PETIT KITCHEN & LOUNGE 09/22/2016 RED\n",
      "TOULOUSE PETIT KITCHEN & LOUNGE 09/22/2016 RED\n",
      "TOULOUSE PETIT KITCHEN & LOUNGE 09/22/2016 RED\n",
      "TOULOUSE PETIT KITCHEN & LOUNGE 09/22/2016 RED\n",
      "TOULOUSE PETIT KITCHEN & LOUNGE 09/22/2016 BLUE\n",
      "TOULOUSE PETIT KITCHEN & LOUNGE 09/22/2016 BLUE\n",
      "TOULOUSE PETIT KITCHEN & LOUNGE 09/22/2016 BLUE\n",
      "TOULOUSE PETIT KITCHEN & LOUNGE 06/20/2016 None\n",
      "TOULOUSE PETIT KITCHEN & LOUNGE 01/26/2016 RED\n",
      "TOULOUSE PETIT KITCHEN & LOUNGE 01/26/2016 BLUE\n",
      "TOULOUSE PETIT KITCHEN & LOUNGE 01/26/2016 BLUE\n"
     ]
    }
   ],
   "source": [
    "for inspection in business.findall('Inspection'):\n",
    "        for violation in inspection.findall('Violation'):\n",
    "            print(get_attribute(business, 'Name'), \n",
    "                  get_attribute(inspection, 'Inspection_Date'), \n",
    "                  get_attribute(violation, 'Violation_Type'))"
   ]
  },
  {
   "cell_type": "markdown",
   "metadata": {},
   "source": [
    "Looks good, now try for multiple businesses"
   ]
  },
  {
   "cell_type": "code",
   "execution_count": 634,
   "metadata": {
    "collapsed": false
   },
   "outputs": [
    {
     "name": "stdout",
     "output_type": "stream",
     "text": [
      "10 MERCER RESTAURANT 07/07/2016 None\n",
      "10 MERCER RESTAURANT 02/24/2016 RED\n",
      "10 MERCER RESTAURANT 02/24/2016 BLUE\n",
      "100 LB CLAM 08/31/2016 None\n",
      "13 COINS 09/19/2016 RED\n",
      "13 COINS 09/19/2016 BLUE\n",
      "13 COINS 06/01/2016 BLUE\n",
      "13 COINS 05/18/2016 RED\n",
      "13 COINS 05/18/2016 RED\n",
      "13 COINS 05/18/2016 RED\n",
      "13 COINS 05/18/2016 BLUE\n",
      "13 COINS 01/12/2016 BLUE\n",
      "5-SPOT 07/29/2016 RED\n",
      "5-SPOT 07/29/2016 BLUE\n",
      "5-SPOT 07/29/2016 BLUE\n",
      "5-SPOT 07/29/2016 BLUE\n",
      "7-ELEVEN STORE #14368A 02/09/2016 None\n"
     ]
    }
   ],
   "source": [
    "businesses = root[0:5]\n",
    "\n",
    "for b in range(0, len(businesses)):\n",
    "    business = businesses[b]\n",
    "    if business.find('Inspection'): # not every business has inspections in the data, oddly\n",
    "        for inspection in business.findall('Inspection'):\n",
    "            \n",
    "            if inspection.find('Violation'): # not every inspection has violations...\n",
    "                for violation in inspection.findall('Violation'):\n",
    "                    print(get_attribute(business, 'Name'), \n",
    "                          get_attribute(inspection, 'Inspection_Date'), \n",
    "                          get_attribute(violation, 'Violation_Type'))\n",
    "            else:\n",
    "                print(get_attribute(business, 'Name'), \n",
    "                      get_attribute(inspection, 'Inspection_Date'))"
   ]
  },
  {
   "cell_type": "code",
   "execution_count": null,
   "metadata": {
    "collapsed": false
   },
   "outputs": [],
   "source": [
    "# Will eventually set something up like this.. \n",
    "'''\n",
    "business_attributes = {'Name': name, 'Lat': lat, 'Long': long, \n",
    "                       'inspect_date': inspect_date, \n",
    "                       'vtype': vtype, 'vdesc': vdesc, 'vscore': vscore}\n",
    "df = pd.DataFrame(business_attributes)\n",
    "'''"
   ]
  },
  {
   "cell_type": "code",
   "execution_count": 588,
   "metadata": {
    "collapsed": false
   },
   "outputs": [],
   "source": []
  }
 ],
 "metadata": {
  "kernelspec": {
   "display_name": "Python 3",
   "language": "python",
   "name": "python3"
  },
  "language_info": {
   "codemirror_mode": {
    "name": "ipython",
    "version": 3
   },
   "file_extension": ".py",
   "mimetype": "text/x-python",
   "name": "python",
   "nbconvert_exporter": "python",
   "pygments_lexer": "ipython3",
   "version": "3.4.5"
  }
 },
 "nbformat": 4,
 "nbformat_minor": 0
}
