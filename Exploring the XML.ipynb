{
 "cells": [
  {
   "cell_type": "markdown",
   "metadata": {},
   "source": [
    "# Contents<a id=\"top\"></a>\n",
    "\n",
    "* <a href=\"#xml\">Get the raw XML</a>\n",
    "* <a href=\"#parsexml\">Element tree structure</a>\n",
    "* <a href=\"#toulouse\">A business with lots of violations: Toulouse Petit</a>\n",
    "* <a href=\"#reformat\">Reformatting XML into a Pandas Data Frame</a>"
   ]
  },
  {
   "cell_type": "markdown",
   "metadata": {},
   "source": [
    "## Get the raw XML<a id=\"xml\"></id>\n",
    "[<a href=\"#top\">back to top</a>]"
   ]
  },
  {
   "cell_type": "code",
   "execution_count": 1,
   "metadata": {
    "collapsed": false
   },
   "outputs": [],
   "source": [
    "import requests\n",
    "import xml.etree.ElementTree as ET\n",
    "import pandas as pd"
   ]
  },
  {
   "cell_type": "code",
   "execution_count": 2,
   "metadata": {
    "collapsed": false
   },
   "outputs": [],
   "source": [
    "def get_xml(**kwargs):\n",
    "    ''' Returns root XML tree structure using King County's API\n",
    "    \n",
    "        Kwargs\n",
    "        ======\n",
    "        Business_Name - string\n",
    "        Business_Address - string\n",
    "        Zip_Code - string\n",
    "        Inspection_Start - string with valid date in format MM/DD/YYYY\n",
    "        Inspection_End - string with valid date in format MM/DD/YYYY\n",
    "        Violation_Points - string with Integer <= 999\n",
    "        Violation_Red_Points - string with Integer <=999\n",
    "        City - string\n",
    "        \n",
    "        Example\n",
    "        =======\n",
    "        Returns inspection data in zip code 98101 since 1/1/2016\n",
    "        >>> get_data(Zip_Code='98101', Inspection_Start=1/1/2016)\n",
    "        \n",
    "        Notes\n",
    "        =====\n",
    "        The API appears to break using parameter Inspection_Closed_Business\n",
    "    '''\n",
    "    if kwargs == None:\n",
    "        print('Oh no! You forgot to select at least one parameter')\n",
    "        return\n",
    "        \n",
    "    else:\n",
    "        url = 'http://info.kingcounty.gov/health/ehs/foodsafety/inspections/XmlRest.aspx?'\n",
    "        for key in kwargs:\n",
    "            s = '='.join([key, kwargs[key]])\n",
    "            url = '&'.join([url, s])\n",
    "    # retrieve data\n",
    "    response = requests.get(url)\n",
    "    root = ET.fromstring(response.content)\n",
    "    # Remove the King County data disclaimer\n",
    "    disclaimer_element = root.find('Disclaimer')\n",
    "    root.remove(disclaimer_element)\n",
    "    return root"
   ]
  },
  {
   "cell_type": "markdown",
   "metadata": {},
   "source": [
    "Toulouse Petit is a popular restaurant that recently got closed by the health department for failing inspections. Let's use their 2016 inspections to verify the structure of the data."
   ]
  },
  {
   "cell_type": "code",
   "execution_count": 4,
   "metadata": {
    "collapsed": false
   },
   "outputs": [],
   "source": [
    "# get some data that would select Toulouse Petit\n",
    "root = get_xml(Zip_Code='98109', Inspection_Start='1/1/2016', Inspection_End='12/31/2016')"
   ]
  },
  {
   "cell_type": "markdown",
   "metadata": {},
   "source": [
    "## Element tree structure<a id=\"parsexml\"></id>\n",
    "[<a href=\"#top\">back to top</a>]"
   ]
  },
  {
   "cell_type": "markdown",
   "metadata": {},
   "source": [
    "Let's see what kind of tags are available to query from the data for each business"
   ]
  },
  {
   "cell_type": "code",
   "execution_count": 7,
   "metadata": {
    "collapsed": false
   },
   "outputs": [
    {
     "data": {
      "text/plain": [
       "[<Element 'Name' at 0x10cedc278>,\n",
       " <Element 'Program_Identifier' at 0x10cedc2c8>,\n",
       " <Element 'Description' at 0x10cedc188>,\n",
       " <Element 'Address' at 0x10cedc318>,\n",
       " <Element 'City' at 0x10cedc408>,\n",
       " <Element 'Zip_Code' at 0x10cedc458>,\n",
       " <Element 'Phone' at 0x10cedc4a8>,\n",
       " <Element 'Longitude' at 0x10cedc598>,\n",
       " <Element 'Latitude' at 0x10cedc728>,\n",
       " <Element 'Inspection' at 0x10cedc548>,\n",
       " <Element 'Inspection' at 0x10cedca98>]"
      ]
     },
     "execution_count": 7,
     "metadata": {},
     "output_type": "execute_result"
    }
   ],
   "source": [
    "root[0].getchildren()"
   ]
  },
  {
   "cell_type": "markdown",
   "metadata": {},
   "source": [
    "Do any of these elements have children?"
   ]
  },
  {
   "cell_type": "code",
   "execution_count": 12,
   "metadata": {
    "collapsed": false
   },
   "outputs": [
    {
     "name": "stdout",
     "output_type": "stream",
     "text": [
      "Name []\n",
      "Program_Identifier []\n",
      "Description []\n",
      "Address []\n",
      "City []\n",
      "Zip_Code []\n",
      "Phone []\n",
      "Longitude []\n",
      "Latitude []\n",
      "Inspection [<Element 'Inspection_Date' at 0x10cedc638>, <Element 'Inspection_Business_Name' at 0x10cedc6d8>, <Element 'Inspection_Type' at 0x10cedc7c8>, <Element 'Inspection_Score' at 0x10cedc818>, <Element 'Inspection_Result' at 0x10cedc868>, <Element 'Inspection_Closed_Business' at 0x10cedc908>, <Element 'Violation' at 0x10cedc958>]\n",
      "Inspection [<Element 'Inspection_Date' at 0x10cedcae8>, <Element 'Inspection_Business_Name' at 0x10cedcb38>, <Element 'Inspection_Type' at 0x10cedcb88>, <Element 'Inspection_Score' at 0x10cedcc28>, <Element 'Inspection_Result' at 0x10cedcc78>, <Element 'Inspection_Closed_Business' at 0x10cedccc8>, <Element 'Violation' at 0x10cedcd18>, <Element 'Violation' at 0x10cedce58>]\n"
     ]
    }
   ],
   "source": [
    "for child in root[0].getchildren():\n",
    "    print(child.tag, child.getchildren())"
   ]
  },
  {
   "cell_type": "markdown",
   "metadata": {},
   "source": [
    "The 'Inspection' element is not terminal. Are any of its elements non-terminal as well?"
   ]
  },
  {
   "cell_type": "code",
   "execution_count": 13,
   "metadata": {
    "collapsed": false
   },
   "outputs": [
    {
     "data": {
      "text/plain": [
       "[<Element 'Inspection_Date' at 0x10cedcae8>,\n",
       " <Element 'Inspection_Business_Name' at 0x10cedcb38>,\n",
       " <Element 'Inspection_Type' at 0x10cedcb88>,\n",
       " <Element 'Inspection_Score' at 0x10cedcc28>,\n",
       " <Element 'Inspection_Result' at 0x10cedcc78>,\n",
       " <Element 'Inspection_Closed_Business' at 0x10cedccc8>,\n",
       " <Element 'Violation' at 0x10cedcd18>,\n",
       " <Element 'Violation' at 0x10cedce58>]"
      ]
     },
     "execution_count": 13,
     "metadata": {},
     "output_type": "execute_result"
    }
   ],
   "source": [
    "# the last inspection for the first business in root\n",
    "root[0][-1].getchildren()"
   ]
  },
  {
   "cell_type": "code",
   "execution_count": 14,
   "metadata": {
    "collapsed": false
   },
   "outputs": [
    {
     "data": {
      "text/plain": [
       "'02/24/2016'"
      ]
     },
     "execution_count": 14,
     "metadata": {},
     "output_type": "execute_result"
    }
   ],
   "source": [
    "# So the value for the Inspection_Date would be... \n",
    "root[0][-1][0].text"
   ]
  },
  {
   "cell_type": "markdown",
   "metadata": {},
   "source": [
    "In the raw XML (downloaded or viewing in the browser), it looks like each Violation has child elements as well."
   ]
  },
  {
   "cell_type": "code",
   "execution_count": 19,
   "metadata": {
    "collapsed": false
   },
   "outputs": [
    {
     "data": {
      "text/plain": [
       "[<Element 'Violation_Type' at 0x10cedcea8>,\n",
       " <Element 'Violation_Descr' at 0x10cedcef8>,\n",
       " <Element 'Violation_Points' at 0x10cedcf48>]"
      ]
     },
     "execution_count": 19,
     "metadata": {},
     "output_type": "execute_result"
    }
   ],
   "source": [
    "# elements for the first business, last inspection, last violation of that inspection\n",
    "root[0][-1][-1].getchildren()"
   ]
  },
  {
   "cell_type": "code",
   "execution_count": 20,
   "metadata": {
    "collapsed": false
   },
   "outputs": [
    {
     "data": {
      "text/plain": [
       "'4200 - Food-contact surfaces maintained, clean, sanitized'"
      ]
     },
     "execution_count": 20,
     "metadata": {},
     "output_type": "execute_result"
    }
   ],
   "source": [
    "root[0][-1][-1][1].text # Violation_Descr for above"
   ]
  },
  {
   "cell_type": "markdown",
   "metadata": {},
   "source": [
    "## A business with lots of violations: Toulouse Petit<a id=\"toulouse\"></id>\n",
    "[<a href=\"#top\">back to top</a>]"
   ]
  },
  {
   "cell_type": "code",
   "execution_count": 5,
   "metadata": {
    "collapsed": false
   },
   "outputs": [],
   "source": [
    "business = root[339] # toulouse petit"
   ]
  },
  {
   "cell_type": "code",
   "execution_count": 22,
   "metadata": {
    "collapsed": true
   },
   "outputs": [],
   "source": [
    "def get_attribute(node, attribute):\n",
    "    if node.find(attribute) is not None:\n",
    "        return node.find(attribute).text\n",
    "    else:\n",
    "        return None"
   ]
  },
  {
   "cell_type": "code",
   "execution_count": 633,
   "metadata": {
    "collapsed": false
   },
   "outputs": [
    {
     "name": "stdout",
     "output_type": "stream",
     "text": [
      "TOULOUSE PETIT KITCHEN & LOUNGE 09/27/2016 None\n",
      "TOULOUSE PETIT KITCHEN & LOUNGE 09/22/2016 RED\n",
      "TOULOUSE PETIT KITCHEN & LOUNGE 09/22/2016 RED\n",
      "TOULOUSE PETIT KITCHEN & LOUNGE 09/22/2016 RED\n",
      "TOULOUSE PETIT KITCHEN & LOUNGE 09/22/2016 RED\n",
      "TOULOUSE PETIT KITCHEN & LOUNGE 09/22/2016 RED\n",
      "TOULOUSE PETIT KITCHEN & LOUNGE 09/22/2016 BLUE\n",
      "TOULOUSE PETIT KITCHEN & LOUNGE 09/22/2016 BLUE\n",
      "TOULOUSE PETIT KITCHEN & LOUNGE 09/22/2016 BLUE\n",
      "TOULOUSE PETIT KITCHEN & LOUNGE 06/20/2016 None\n",
      "TOULOUSE PETIT KITCHEN & LOUNGE 01/26/2016 RED\n",
      "TOULOUSE PETIT KITCHEN & LOUNGE 01/26/2016 BLUE\n",
      "TOULOUSE PETIT KITCHEN & LOUNGE 01/26/2016 BLUE\n"
     ]
    }
   ],
   "source": [
    "for inspection in business.findall('Inspection'):\n",
    "        for violation in inspection.findall('Violation'):\n",
    "            print(get_attribute(business, 'Name'), \n",
    "                  get_attribute(inspection, 'Inspection_Date'), \n",
    "                  get_attribute(violation, 'Violation_Type'))"
   ]
  },
  {
   "cell_type": "markdown",
   "metadata": {},
   "source": [
    "Comparing with the raw XML, this looks like it's grabbing all the inspections and violations correctly for Toulouse Petit. \n",
    "\n",
    "Now for multiple businesses..."
   ]
  },
  {
   "cell_type": "markdown",
   "metadata": {},
   "source": [
    "## Reformatting the XML into a Pandas Data Frame<a id=\"reformat\"></id>\n",
    "[<a href=\"#top\">back to top</a>]\n",
    "\n",
    "Finally time to get rid of this unsavory XML format once and for all!\n",
    "\n",
    "Let's try the above for multiple businesses..."
   ]
  },
  {
   "cell_type": "code",
   "execution_count": 634,
   "metadata": {
    "collapsed": false
   },
   "outputs": [
    {
     "name": "stdout",
     "output_type": "stream",
     "text": [
      "10 MERCER RESTAURANT 07/07/2016 None\n",
      "10 MERCER RESTAURANT 02/24/2016 RED\n",
      "10 MERCER RESTAURANT 02/24/2016 BLUE\n",
      "100 LB CLAM 08/31/2016 None\n",
      "13 COINS 09/19/2016 RED\n",
      "13 COINS 09/19/2016 BLUE\n",
      "13 COINS 06/01/2016 BLUE\n",
      "13 COINS 05/18/2016 RED\n",
      "13 COINS 05/18/2016 RED\n",
      "13 COINS 05/18/2016 RED\n",
      "13 COINS 05/18/2016 BLUE\n",
      "13 COINS 01/12/2016 BLUE\n",
      "5-SPOT 07/29/2016 RED\n",
      "5-SPOT 07/29/2016 BLUE\n",
      "5-SPOT 07/29/2016 BLUE\n",
      "5-SPOT 07/29/2016 BLUE\n",
      "7-ELEVEN STORE #14368A 02/09/2016 None\n"
     ]
    }
   ],
   "source": [
    "businesses = root[0:5]\n",
    "\n",
    "for b in range(0, len(businesses)):\n",
    "    business = businesses[b]\n",
    "    if business.find('Inspection'): # not every business has inspections in the data, oddly\n",
    "        for inspection in business.findall('Inspection'):\n",
    "            \n",
    "            if inspection.find('Violation'): # not every inspection has violations...\n",
    "                for violation in inspection.findall('Violation'):\n",
    "                    print(get_attribute(business, 'Name'), \n",
    "                          get_attribute(inspection, 'Inspection_Date'), \n",
    "                          get_attribute(violation, 'Violation_Type'))\n",
    "            else:\n",
    "                print(get_attribute(business, 'Name'), \n",
    "                      get_attribute(inspection, 'Inspection_Date'))"
   ]
  },
  {
   "cell_type": "markdown",
   "metadata": {},
   "source": [
    "Now tidy up and extract the nested branch elements into lists."
   ]
  },
  {
   "cell_type": "code",
   "execution_count": 24,
   "metadata": {
    "collapsed": false
   },
   "outputs": [],
   "source": [
    "name = []\n",
    "desc = []\n",
    "address = []\n",
    "city = []\n",
    "zip_code = []\n",
    "long = []\n",
    "lat = []\n",
    "i_date = []\n",
    "i_type = []\n",
    "i_score = []\n",
    "i_result = []\n",
    "i_closed = []\n",
    "v_type = []\n",
    "v_desc = []\n",
    "v_points = []\n",
    "\n",
    "for b in range(0, len(root)):\n",
    "    business = root[b]\n",
    "    if business.find('Inspection'): # not every business has inspections in the data, oddly\n",
    "        for inspection in business.findall('Inspection'):\n",
    "            \n",
    "            if inspection.find('Violation'): # not every inspection has violations...\n",
    "                for violation in inspection.findall('Violation'):\n",
    "                    name.append(get_attribute(business, 'Name'))\n",
    "                    desc.append(get_attribute(business, 'Description'))\n",
    "                    address.append(get_attribute(business, 'Address'))\n",
    "                    city.append(get_attribute(business, 'City'))\n",
    "                    zip_code.append(get_attribute(business, 'Zip_Code'))\n",
    "                    long.append(get_attribute(business, 'Longitude'))\n",
    "                    lat.append(get_attribute(business, 'Latitude'))\n",
    "                    i_date.append(get_attribute(inspection, 'Inspection_Date'))\n",
    "                    i_type.append(get_attribute(inspection, 'Inspection_Type'))\n",
    "                    i_score.append(get_attribute(inspection, 'Inspection_Score'))\n",
    "                    i_result.append(get_attribute(inspection, 'Inspection_Result'))\n",
    "                    i_closed.append(get_attribute(inspection, 'Inspection_Closed_Business'))\n",
    "                    v_type.append(get_attribute(violation, 'Violation_Type'))\n",
    "                    v_desc.append(get_attribute(violation, 'Violation_Descr'))\n",
    "                    v_points.append(get_attribute(violation, 'Violation_Points'))\n",
    "                    \n",
    "            else:\n",
    "                name.append(get_attribute(business, 'Name'))\n",
    "                desc.append(get_attribute(business, 'Description'))\n",
    "                address.append(get_attribute(business, 'Address'))\n",
    "                city.append(get_attribute(business, 'City'))\n",
    "                zip_code.append(get_attribute(business, 'Zip_Code'))\n",
    "                long.append(get_attribute(business, 'Longitude'))\n",
    "                lat.append(get_attribute(business, 'Latitude'))\n",
    "                i_date.append(get_attribute(inspection, 'Inspection_Date'))\n",
    "                i_type.append(get_attribute(inspection, 'Inspection_Type'))\n",
    "                i_score.append(get_attribute(inspection, 'Inspection_Score'))\n",
    "                i_result.append(get_attribute(inspection, 'Inspection_Result'))\n",
    "                i_closed.append(get_attribute(inspection, 'Inspection_Closed_Business'))"
   ]
  },
  {
   "cell_type": "code",
   "execution_count": 32,
   "metadata": {
    "collapsed": false
   },
   "outputs": [],
   "source": [
    "# time to turn it into a friendly data frame\n",
    "business_attributes = { 'name': name,\n",
    "                        'description': desc,\n",
    "                        'address': address,\n",
    "                        'city': city,\n",
    "                        'zip_code': zip_code,\n",
    "                        'longitude': long,\n",
    "                        'latitude': lat,\n",
    "                        'inspection_date': i_date,\n",
    "                        'inspection_type': i_type,\n",
    "                        'inspection_score': i_score,\n",
    "                        'inspection_result': i_result,\n",
    "                        'inspection_closed_business': i_closed,\n",
    "                        'violation_type': v_type,\n",
    "                        'violation_description': v_desc,\n",
    "                        'violation_points': v_points\n",
    "                        }\n",
    "df = pd.DataFrame(business_attributes)"
   ]
  },
  {
   "cell_type": "code",
   "execution_count": 31,
   "metadata": {
    "collapsed": false
   },
   "outputs": [
    {
     "data": {
      "text/html": [
       "<div>\n",
       "<table border=\"1\" class=\"dataframe\">\n",
       "  <thead>\n",
       "    <tr style=\"text-align: right;\">\n",
       "      <th></th>\n",
       "      <th>address</th>\n",
       "      <th>city</th>\n",
       "      <th>description</th>\n",
       "      <th>inspection_closed_business</th>\n",
       "      <th>inspection_date</th>\n",
       "      <th>inspection_result</th>\n",
       "      <th>inspection_score</th>\n",
       "      <th>inspection_type</th>\n",
       "      <th>latitude</th>\n",
       "      <th>longitude</th>\n",
       "      <th>name</th>\n",
       "      <th>violation_description</th>\n",
       "      <th>violation_points</th>\n",
       "      <th>violation_type</th>\n",
       "      <th>zip_code</th>\n",
       "    </tr>\n",
       "  </thead>\n",
       "  <tbody>\n",
       "    <tr>\n",
       "      <th>0</th>\n",
       "      <td>10 MERCER ST</td>\n",
       "      <td>Seattle</td>\n",
       "      <td>Seating 13-50 - Risk Category III</td>\n",
       "      <td>N</td>\n",
       "      <td>07/07/2016</td>\n",
       "      <td>Complete</td>\n",
       "      <td>N/A</td>\n",
       "      <td>Consultation/Education - Field</td>\n",
       "      <td>47.6250635431</td>\n",
       "      <td>-122.3561914741</td>\n",
       "      <td>10 MERCER RESTAURANT</td>\n",
       "      <td>None</td>\n",
       "      <td>None</td>\n",
       "      <td>None</td>\n",
       "      <td>98109</td>\n",
       "    </tr>\n",
       "    <tr>\n",
       "      <th>1</th>\n",
       "      <td>10 MERCER ST</td>\n",
       "      <td>Seattle</td>\n",
       "      <td>Seating 13-50 - Risk Category III</td>\n",
       "      <td>N</td>\n",
       "      <td>02/24/2016</td>\n",
       "      <td>Unsatisfactory</td>\n",
       "      <td>15</td>\n",
       "      <td>Routine Inspection/Field Review</td>\n",
       "      <td>47.6250635431</td>\n",
       "      <td>-122.3561914741</td>\n",
       "      <td>10 MERCER RESTAURANT</td>\n",
       "      <td>2500 - Toxic substances properly identified,...</td>\n",
       "      <td>10</td>\n",
       "      <td>RED</td>\n",
       "      <td>98109</td>\n",
       "    </tr>\n",
       "    <tr>\n",
       "      <th>2</th>\n",
       "      <td>10 MERCER ST</td>\n",
       "      <td>Seattle</td>\n",
       "      <td>Seating 13-50 - Risk Category III</td>\n",
       "      <td>N</td>\n",
       "      <td>02/24/2016</td>\n",
       "      <td>Unsatisfactory</td>\n",
       "      <td>15</td>\n",
       "      <td>Routine Inspection/Field Review</td>\n",
       "      <td>47.6250635431</td>\n",
       "      <td>-122.3561914741</td>\n",
       "      <td>10 MERCER RESTAURANT</td>\n",
       "      <td>4200 - Food-contact surfaces maintained, clean...</td>\n",
       "      <td>5</td>\n",
       "      <td>BLUE</td>\n",
       "      <td>98109</td>\n",
       "    </tr>\n",
       "    <tr>\n",
       "      <th>3</th>\n",
       "      <td>1001 FAIRVIEW AVE N Unit 1700A</td>\n",
       "      <td>SEATTLE</td>\n",
       "      <td>Seating 0-12 - Risk Category III</td>\n",
       "      <td>N</td>\n",
       "      <td>08/31/2016</td>\n",
       "      <td>Complete</td>\n",
       "      <td>N/A</td>\n",
       "      <td>Consultation/Education - Field</td>\n",
       "      <td>47.6290212900</td>\n",
       "      <td>-122.3317269400</td>\n",
       "      <td>100 LB CLAM</td>\n",
       "      <td>None</td>\n",
       "      <td>None</td>\n",
       "      <td>None</td>\n",
       "      <td>98109</td>\n",
       "    </tr>\n",
       "    <tr>\n",
       "      <th>4</th>\n",
       "      <td>125 BOREN AVE N</td>\n",
       "      <td>Seattle</td>\n",
       "      <td>Seating 51-150 - Risk Category III</td>\n",
       "      <td>N</td>\n",
       "      <td>09/19/2016</td>\n",
       "      <td>Unsatisfactory</td>\n",
       "      <td>15</td>\n",
       "      <td>Routine Inspection/Field Review</td>\n",
       "      <td>47.6193632585</td>\n",
       "      <td>-122.3362285865</td>\n",
       "      <td>13 COINS</td>\n",
       "      <td>2500 - Toxic substances properly identified,...</td>\n",
       "      <td>10</td>\n",
       "      <td>RED</td>\n",
       "      <td>98109</td>\n",
       "    </tr>\n",
       "  </tbody>\n",
       "</table>\n",
       "</div>"
      ],
      "text/plain": [
       "                          address     city  \\\n",
       "0                    10 MERCER ST  Seattle   \n",
       "1                    10 MERCER ST  Seattle   \n",
       "2                    10 MERCER ST  Seattle   \n",
       "3  1001 FAIRVIEW AVE N Unit 1700A  SEATTLE   \n",
       "4                125 BOREN AVE N   Seattle   \n",
       "\n",
       "                          description inspection_closed_business  \\\n",
       "0   Seating 13-50 - Risk Category III                          N   \n",
       "1   Seating 13-50 - Risk Category III                          N   \n",
       "2   Seating 13-50 - Risk Category III                          N   \n",
       "3    Seating 0-12 - Risk Category III                          N   \n",
       "4  Seating 51-150 - Risk Category III                          N   \n",
       "\n",
       "  inspection_date inspection_result inspection_score  \\\n",
       "0      07/07/2016          Complete              N/A   \n",
       "1      02/24/2016    Unsatisfactory               15   \n",
       "2      02/24/2016    Unsatisfactory               15   \n",
       "3      08/31/2016          Complete              N/A   \n",
       "4      09/19/2016    Unsatisfactory               15   \n",
       "\n",
       "                   inspection_type       latitude        longitude  \\\n",
       "0   Consultation/Education - Field  47.6250635431  -122.3561914741   \n",
       "1  Routine Inspection/Field Review  47.6250635431  -122.3561914741   \n",
       "2  Routine Inspection/Field Review  47.6250635431  -122.3561914741   \n",
       "3   Consultation/Education - Field  47.6290212900  -122.3317269400   \n",
       "4  Routine Inspection/Field Review  47.6193632585  -122.3362285865   \n",
       "\n",
       "                   name                              violation_description  \\\n",
       "0  10 MERCER RESTAURANT                                               None   \n",
       "1  10 MERCER RESTAURANT    2500 - Toxic substances properly identified,...   \n",
       "2  10 MERCER RESTAURANT  4200 - Food-contact surfaces maintained, clean...   \n",
       "3           100 LB CLAM                                               None   \n",
       "4              13 COINS    2500 - Toxic substances properly identified,...   \n",
       "\n",
       "  violation_points violation_type zip_code  \n",
       "0             None           None    98109  \n",
       "1               10            RED    98109  \n",
       "2                5           BLUE    98109  \n",
       "3             None           None    98109  \n",
       "4               10            RED    98109  "
      ]
     },
     "execution_count": 31,
     "metadata": {},
     "output_type": "execute_result"
    }
   ],
   "source": [
    "df.head(5)"
   ]
  },
  {
   "cell_type": "code",
   "execution_count": null,
   "metadata": {
    "collapsed": true
   },
   "outputs": [],
   "source": []
  }
 ],
 "metadata": {
  "kernelspec": {
   "display_name": "Python 3",
   "language": "python",
   "name": "python3"
  },
  "language_info": {
   "codemirror_mode": {
    "name": "ipython",
    "version": 3
   },
   "file_extension": ".py",
   "mimetype": "text/x-python",
   "name": "python",
   "nbconvert_exporter": "python",
   "pygments_lexer": "ipython3",
   "version": "3.4.5"
  }
 },
 "nbformat": 4,
 "nbformat_minor": 0
}
