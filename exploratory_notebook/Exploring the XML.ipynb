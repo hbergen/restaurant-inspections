{
 "cells": [
  {
   "cell_type": "markdown",
   "metadata": {},
   "source": [
    "# About\n",
    "\n",
    "This notebook is focused on retrieving the XML data via King County's API, cleaning it into Pandas Data Frame format, and formatting the values and data types.\n",
    "\n",
    "#### Notebook contents<a id=\"top\"></a>\n",
    "\n",
    "* <a href=\"#xml\">Get the raw XML</a>\n",
    "* <a href=\"#parsexml\">Element tree structure</a>\n",
    "* <a href=\"#toulouse\">A business with lots of violations: Toulouse Petit</a>\n",
    "* <a href=\"#dataframe\">Reformatting XML into a Pandas Data Frame</a>\n",
    "* <a href=\"#clean\">Data cleaning</a>\n",
    "* <a href=\"#plot\">Visual inspection</a>\n",
    "\n",
    "![5 second rule](extras/foodsafety.jpeg)"
   ]
  },
  {
   "cell_type": "code",
   "execution_count": 1,
   "metadata": {},
   "outputs": [],
   "source": [
    "import requests\n",
    "import xml.etree.ElementTree as ET\n",
    "import pandas as pd\n",
    "import folium\n",
    "from folium import plugins\n",
    "from matplotlib import pyplot as plt\n",
    "plt.style.use('seaborn-white')\n",
    "import toyplot\n",
    "%matplotlib inline"
   ]
  },
  {
   "cell_type": "markdown",
   "metadata": {},
   "source": [
    "## Get the raw XML<a id=\"xml\"></id>\n",
    "[<a href=\"#top\">back to top</a>]"
   ]
  },
  {
   "cell_type": "code",
   "execution_count": 2,
   "metadata": {},
   "outputs": [],
   "source": [
    "def get_xml(**kwargs):\n",
    "    ''' Returns root XML tree structure using King County's API\n",
    "    \n",
    "        Kwargs\n",
    "        ======\n",
    "        Business_Name - string\n",
    "        Business_Address - string\n",
    "        Zip_Code - string\n",
    "        Inspection_Start - string with valid date in format MM/DD/YYYY\n",
    "        Inspection_End - string with valid date in format MM/DD/YYYY\n",
    "        Violation_Points - string with Integer <= 999\n",
    "        Violation_Red_Points - string with Integer <=999\n",
    "        City - string\n",
    "        \n",
    "        Example\n",
    "        =======\n",
    "        Returns inspection data in zip code 98101 since 1/1/2016\n",
    "        >>> get_data(Zip_Code='98101', Inspection_Start=1/1/2016)\n",
    "        \n",
    "        Notes\n",
    "        =====\n",
    "        The API appears to break using parameter Inspection_Closed_Business\n",
    "    '''\n",
    "    if kwargs == None:\n",
    "        print('Oh no! You forgot to select at least one parameter')\n",
    "        return\n",
    "        \n",
    "    else:\n",
    "        url = 'http://info.kingcounty.gov/health/ehs/foodsafety/inspections/XmlRest.aspx?'\n",
    "        for key in kwargs:\n",
    "            s = '='.join([key, kwargs[key]])\n",
    "            url = '&'.join([url, s])\n",
    "    # retrieve data\n",
    "    response = requests.get(url)\n",
    "    root = ET.fromstring(response.content)\n",
    "    # Remove the King County data disclaimer\n",
    "    disclaimer_element = root.find('Disclaimer')\n",
    "    root.remove(disclaimer_element)\n",
    "    return root"
   ]
  },
  {
   "cell_type": "markdown",
   "metadata": {},
   "source": [
    "Toulouse Petit is a popular restaurant in Seattle that recently got closed by the health department for failing inspections. Let's pull 2016 inspections which would include the Toulouse Petit violations to verify the structure of the data."
   ]
  },
  {
   "cell_type": "code",
   "execution_count": 3,
   "metadata": {},
   "outputs": [],
   "source": [
    "# get some data that would select Toulouse Petit\n",
    "root = get_xml(Zip_Code='98109', Inspection_Start='1/1/2016', Inspection_End='12/31/2016')"
   ]
  },
  {
   "cell_type": "markdown",
   "metadata": {},
   "source": [
    "According to King County's API documentation, this is equivalent to pasting\n",
    "http://info.kingcounty.gov/health/ehs/foodsafety/inspections/XmlRest.aspx?Zip_code=98109&Inspection_Start=1/1/2016&Inspection_End=12/31/2016\n",
    "in the browser."
   ]
  },
  {
   "cell_type": "markdown",
   "metadata": {},
   "source": [
    "## Element tree structure<a id=\"parsexml\"></id>\n",
    "[<a href=\"#top\">back to top</a>]"
   ]
  },
  {
   "cell_type": "markdown",
   "metadata": {},
   "source": [
    "Let's see what kind of tags are available to query from the data for each business"
   ]
  },
  {
   "cell_type": "code",
   "execution_count": 4,
   "metadata": {},
   "outputs": [
    {
     "data": {
      "text/plain": [
       "[<Element 'Name' at 0x10dc06810>,\n",
       " <Element 'Program_Identifier' at 0x10dc06850>,\n",
       " <Element 'Description' at 0x1104be0d0>,\n",
       " <Element 'Address' at 0x1104be110>,\n",
       " <Element 'City' at 0x1104be450>,\n",
       " <Element 'Zip_Code' at 0x1104be190>,\n",
       " <Element 'Phone' at 0x1104be3d0>,\n",
       " <Element 'Longitude' at 0x1104be410>,\n",
       " <Element 'Latitude' at 0x1104be350>,\n",
       " <Element 'Inspection' at 0x1104be890>,\n",
       " <Element 'Inspection' at 0x1104bedd0>,\n",
       " <Element 'Inspection' at 0x11059d110>]"
      ]
     },
     "execution_count": 4,
     "metadata": {},
     "output_type": "execute_result"
    }
   ],
   "source": [
    "list(root[0])"
   ]
  },
  {
   "cell_type": "markdown",
   "metadata": {},
   "source": [
    "Do any of these elements have children?"
   ]
  },
  {
   "cell_type": "code",
   "execution_count": 5,
   "metadata": {},
   "outputs": [
    {
     "name": "stdout",
     "output_type": "stream",
     "text": [
      "Name []\n",
      "Program_Identifier []\n",
      "Description []\n",
      "Address []\n",
      "City []\n",
      "Zip_Code []\n",
      "Phone []\n",
      "Longitude []\n",
      "Latitude []\n",
      "Inspection [<Element 'Inspection_Date' at 0x106f0ebd8>, <Element 'Inspection_Business_Name' at 0x106f0ec78>, <Element 'Inspection_Type' at 0x106f0ecc8>, <Element 'Inspection_Score' at 0x106f0ed68>, <Element 'Inspection_Result' at 0x106f0edb8>, <Element 'Inspection_Closed_Business' at 0x106f0ee58>, <Element 'Violation' at 0x106f0eea8>, <Element 'Violation' at 0x106f2e048>, <Element 'Violation' at 0x106f2e188>]\n",
      "Inspection [<Element 'Inspection_Date' at 0x106f2e318>, <Element 'Inspection_Business_Name' at 0x106f2e368>, <Element 'Inspection_Type' at 0x106f2e3b8>, <Element 'Inspection_Score' at 0x106f2e458>, <Element 'Inspection_Result' at 0x106f2e4a8>, <Element 'Inspection_Closed_Business' at 0x106f2e4f8>, <Element 'Violation' at 0x106f2e548>]\n",
      "Inspection [<Element 'Inspection_Date' at 0x106f2e6d8>, <Element 'Inspection_Business_Name' at 0x106f2e728>, <Element 'Inspection_Type' at 0x106f2e778>, <Element 'Inspection_Score' at 0x106f2e818>, <Element 'Inspection_Result' at 0x106f2e868>, <Element 'Inspection_Closed_Business' at 0x106f2e8b8>, <Element 'Violation' at 0x106f2e908>, <Element 'Violation' at 0x106f2ea48>]\n"
     ]
    }
   ],
   "source": [
    "for child in list(root[0]):\n",
    "    print(child.tag, list(child))"
   ]
  },
  {
   "cell_type": "markdown",
   "metadata": {},
   "source": [
    "The 'Inspection' element is not terminal. Are any of its elements non-terminal as well?"
   ]
  },
  {
   "cell_type": "code",
   "execution_count": 6,
   "metadata": {},
   "outputs": [
    {
     "data": {
      "text/plain": [
       "[<Element 'Inspection_Date' at 0x106f2e6d8>,\n",
       " <Element 'Inspection_Business_Name' at 0x106f2e728>,\n",
       " <Element 'Inspection_Type' at 0x106f2e778>,\n",
       " <Element 'Inspection_Score' at 0x106f2e818>,\n",
       " <Element 'Inspection_Result' at 0x106f2e868>,\n",
       " <Element 'Inspection_Closed_Business' at 0x106f2e8b8>,\n",
       " <Element 'Violation' at 0x106f2e908>,\n",
       " <Element 'Violation' at 0x106f2ea48>]"
      ]
     },
     "execution_count": 6,
     "metadata": {},
     "output_type": "execute_result"
    }
   ],
   "source": [
    "# the last inspection for the first business in root\n",
    "list(root[0][-1])"
   ]
  },
  {
   "cell_type": "code",
   "execution_count": 7,
   "metadata": {},
   "outputs": [
    {
     "data": {
      "text/plain": [
       "'02/24/2016'"
      ]
     },
     "execution_count": 7,
     "metadata": {},
     "output_type": "execute_result"
    }
   ],
   "source": [
    "# So the value for the Inspection_Date would be... \n",
    "root[0][-1][0].text"
   ]
  },
  {
   "cell_type": "markdown",
   "metadata": {},
   "source": [
    "In the raw XML (downloaded or viewing in the browser), it looks like each Violation has child elements as well."
   ]
  },
  {
   "cell_type": "code",
   "execution_count": 8,
   "metadata": {},
   "outputs": [
    {
     "data": {
      "text/plain": [
       "[<Element 'Violation_Type' at 0x106f2ea98>,\n",
       " <Element 'Violation_Descr' at 0x106f2eae8>,\n",
       " <Element 'Violation_Points' at 0x106f2eb38>]"
      ]
     },
     "execution_count": 8,
     "metadata": {},
     "output_type": "execute_result"
    }
   ],
   "source": [
    "# elements for the first business, last inspection, last violation of that inspection\n",
    "list(root[0][-1][-1])"
   ]
  },
  {
   "cell_type": "code",
   "execution_count": 9,
   "metadata": {},
   "outputs": [
    {
     "data": {
      "text/plain": [
       "'4200 - Food-contact surfaces maintained, clean, sanitized'"
      ]
     },
     "execution_count": 9,
     "metadata": {},
     "output_type": "execute_result"
    }
   ],
   "source": [
    "root[0][-1][-1][1].text # Violation_Descr for above"
   ]
  },
  {
   "cell_type": "markdown",
   "metadata": {},
   "source": [
    "And then... \n",
    "\n",
    "![i hate xml](extras/hatexml.jpg)\n",
    "\n",
    "... yeah. Something like that."
   ]
  },
  {
   "cell_type": "markdown",
   "metadata": {},
   "source": [
    "## A business with lots of violations: Toulouse Petit<a id=\"toulouse\"></id>\n",
    "[<a href=\"#top\">back to top</a>]\n",
    "\n",
    "As mentioned above, Toulouse Petite is a popular restaurant in Seattle that was [recently shut down by the Health Department for excessive violations](http://www.seattletimes.com/seattle-news/health/toulouse-petit-kitchen-in-queen-anne-closed-amid-food-poisoning-probe/). Eww. There should be plenty to look at here."
   ]
  },
  {
   "cell_type": "code",
   "execution_count": 10,
   "metadata": {},
   "outputs": [],
   "source": [
    "def get_attribute(node, attribute):\n",
    "    try:\n",
    "        return node.find(attribute).text\n",
    "    except:\n",
    "        return None"
   ]
  },
  {
   "cell_type": "code",
   "execution_count": 11,
   "metadata": {},
   "outputs": [],
   "source": [
    "def find_business_ix(business_name):\n",
    "    '''Return index of root for a particular business'''\n",
    "    for i, biz in enumerate(root):\n",
    "        if biz.__getitem__(0).text == business_name:\n",
    "            return i"
   ]
  },
  {
   "cell_type": "code",
   "execution_count": 12,
   "metadata": {},
   "outputs": [],
   "source": [
    "# Toulouse Petit node\n",
    "toulouse_petit_ix = find_business_ix('TOULOUSE PETIT KITCHEN & LOUNGE')\n",
    "business = root[toulouse_petit_ix]"
   ]
  },
  {
   "cell_type": "code",
   "execution_count": 13,
   "metadata": {},
   "outputs": [
    {
     "name": "stdout",
     "output_type": "stream",
     "text": [
      "TOULOUSE PETIT KITCHEN & LOUNGE 10/07/2016 None\n",
      "TOULOUSE PETIT KITCHEN & LOUNGE 09/27/2016 None\n",
      "TOULOUSE PETIT KITCHEN & LOUNGE 09/22/2016 RED\n",
      "TOULOUSE PETIT KITCHEN & LOUNGE 09/22/2016 RED\n",
      "TOULOUSE PETIT KITCHEN & LOUNGE 09/22/2016 RED\n",
      "TOULOUSE PETIT KITCHEN & LOUNGE 09/22/2016 RED\n",
      "TOULOUSE PETIT KITCHEN & LOUNGE 09/22/2016 RED\n",
      "TOULOUSE PETIT KITCHEN & LOUNGE 09/22/2016 BLUE\n",
      "TOULOUSE PETIT KITCHEN & LOUNGE 09/22/2016 BLUE\n",
      "TOULOUSE PETIT KITCHEN & LOUNGE 09/22/2016 BLUE\n",
      "TOULOUSE PETIT KITCHEN & LOUNGE 06/20/2016 None\n",
      "TOULOUSE PETIT KITCHEN & LOUNGE 01/26/2016 RED\n",
      "TOULOUSE PETIT KITCHEN & LOUNGE 01/26/2016 BLUE\n",
      "TOULOUSE PETIT KITCHEN & LOUNGE 01/26/2016 BLUE\n"
     ]
    }
   ],
   "source": [
    "for inspection in business.findall('Inspection'):\n",
    "        for violation in inspection.findall('Violation'):\n",
    "            print(get_attribute(business, 'Name'), \n",
    "                  get_attribute(inspection, 'Inspection_Date'), \n",
    "                  get_attribute(violation, 'Violation_Type'))"
   ]
  },
  {
   "cell_type": "markdown",
   "metadata": {},
   "source": [
    "Comparing with the raw XML, it looks like all the inspections and violations are being retrieved correctly for Toulouse Petit. \n",
    "\n",
    "Now for multiple businesses..."
   ]
  },
  {
   "cell_type": "markdown",
   "metadata": {},
   "source": [
    "## Reformatting the XML into a Pandas Data Frame<a id=\"dataframe\"></id>\n",
    "[<a href=\"#top\">back to top</a>]\n",
    "\n",
    "Finally time to get rid of this unsavory XML format once and for all!\n",
    "\n",
    "Let's try the above for multiple businesses..."
   ]
  },
  {
   "cell_type": "code",
   "execution_count": 14,
   "metadata": {},
   "outputs": [
    {
     "data": {
      "text/plain": [
       "'TOULOUSE PETIT KITCHEN & LOUNGE'"
      ]
     },
     "execution_count": 14,
     "metadata": {},
     "output_type": "execute_result"
    }
   ],
   "source": [
    "get_attribute(business, 'Name')"
   ]
  },
  {
   "cell_type": "code",
   "execution_count": 15,
   "metadata": {},
   "outputs": [
    {
     "name": "stdout",
     "output_type": "stream",
     "text": [
      "10 MERCER RESTAURANT 10/10/2016 RED\n",
      "10 MERCER RESTAURANT 10/10/2016 RED\n",
      "10 MERCER RESTAURANT 10/10/2016 BLUE\n",
      "10 MERCER RESTAURANT 07/07/2016 None\n",
      "10 MERCER RESTAURANT 02/24/2016 RED\n",
      "10 MERCER RESTAURANT 02/24/2016 BLUE\n",
      "100 LB CLAM 08/31/2016 None\n",
      "13 COINS 09/19/2016 RED\n",
      "13 COINS 09/19/2016 BLUE\n",
      "13 COINS 06/01/2016 BLUE\n",
      "13 COINS 05/18/2016 RED\n",
      "13 COINS 05/18/2016 RED\n",
      "13 COINS 05/18/2016 RED\n",
      "13 COINS 05/18/2016 BLUE\n",
      "13 COINS 01/12/2016 BLUE\n",
      "5-SPOT 12/06/2016 RED\n",
      "5-SPOT 12/06/2016 BLUE\n",
      "5-SPOT 07/29/2016 RED\n",
      "5-SPOT 07/29/2016 BLUE\n",
      "5-SPOT 07/29/2016 BLUE\n",
      "5-SPOT 07/29/2016 BLUE\n",
      "7-ELEVEN STORE #14368N 10/26/2016 None\n",
      "7-ELEVEN STORE #14368N 02/09/2016 None\n"
     ]
    }
   ],
   "source": [
    "businesses = root[0:5]\n",
    "\n",
    "for b in range(0, len(businesses)):\n",
    "    business = businesses[b]\n",
    "    try:\n",
    "        for inspection in business.findall('Inspection'):\n",
    "            try: # not every inspection has violations...\n",
    "                for violation in inspection.findall('Violation'):\n",
    "                    print(get_attribute(business, 'Name'), \n",
    "                          get_attribute(inspection, 'Inspection_Date'), \n",
    "                          get_attribute(violation, 'Violation_Type'))\n",
    "            except:\n",
    "                print(get_attribute(business, 'Name'), \n",
    "                      get_attribute(inspection, 'Inspection_Date'))\n",
    "    except:\n",
    "        pass"
   ]
  },
  {
   "cell_type": "markdown",
   "metadata": {},
   "source": [
    "Now tidy up and extract the nested branch elements into lists.\n",
    "\n",
    "I wouldn't call the code below tidy though. Sorry reader. That's not the point of this notebook."
   ]
  },
  {
   "cell_type": "code",
   "execution_count": 16,
   "metadata": {},
   "outputs": [],
   "source": [
    "name = []\n",
    "address = []\n",
    "city = []\n",
    "zip_code = []\n",
    "long = []\n",
    "lat = []\n",
    "i_date = []\n",
    "i_type = []\n",
    "i_score = []\n",
    "i_result = []\n",
    "i_closed = []\n",
    "v_type = []\n",
    "v_desc = []\n",
    "v_points = []\n",
    "\n",
    "for b in range(0, len(root)):\n",
    "    business = root[b]\n",
    "    try: # not every business has inspections in the data, oddly\n",
    "        for inspection in business.findall('Inspection'):\n",
    "            try: # not every inspection has violations...\n",
    "                for violation in inspection.findall('Violation'):\n",
    "                    name.append(get_attribute(business, 'Name'))\n",
    "                    address.append(get_attribute(business, 'Address'))\n",
    "                    city.append(get_attribute(business, 'City'))\n",
    "                    zip_code.append(get_attribute(business, 'Zip_Code'))\n",
    "                    long.append(get_attribute(business, 'Longitude'))\n",
    "                    lat.append(get_attribute(business, 'Latitude'))\n",
    "                    i_date.append(get_attribute(inspection, 'Inspection_Date'))\n",
    "                    i_type.append(get_attribute(inspection, 'Inspection_Type'))\n",
    "                    i_score.append(get_attribute(inspection, 'Inspection_Score'))\n",
    "                    i_result.append(get_attribute(inspection, 'Inspection_Result'))\n",
    "                    i_closed.append(get_attribute(inspection, 'Inspection_Closed_Business'))\n",
    "                    v_type.append(get_attribute(violation, 'Violation_Type'))\n",
    "                    v_desc.append(get_attribute(violation, 'Violation_Descr'))\n",
    "                    v_points.append(get_attribute(violation, 'Violation_Points'))\n",
    "                    \n",
    "            except:\n",
    "                name.append(get_attribute(business, 'Name'))\n",
    "                address.append(get_attribute(business, 'Address'))\n",
    "                city.append(get_attribute(business, 'City'))\n",
    "                zip_code.append(get_attribute(business, 'Zip_Code'))\n",
    "                long.append(get_attribute(business, 'Longitude'))\n",
    "                lat.append(get_attribute(business, 'Latitude'))\n",
    "                i_date.append(get_attribute(inspection, 'Inspection_Date'))\n",
    "                i_type.append(get_attribute(inspection, 'Inspection_Type'))\n",
    "                i_score.append(get_attribute(inspection, 'Inspection_Score'))\n",
    "                i_result.append(get_attribute(inspection, 'Inspection_Result'))\n",
    "                i_closed.append(get_attribute(inspection, 'Inspection_Closed_Business'))\n",
    "    except:\n",
    "        pass"
   ]
  },
  {
   "cell_type": "code",
   "execution_count": 17,
   "metadata": {},
   "outputs": [],
   "source": [
    "# time to turn it into a friendly data frame\n",
    "business_attributes = { 'name': name,\n",
    "                        'address': address,\n",
    "                        'city': city,\n",
    "                        'zip_code': zip_code,\n",
    "                        'longitude': long,\n",
    "                        'latitude': lat,\n",
    "                        'inspection_date': i_date,\n",
    "                        'inspection_type': i_type,\n",
    "                        'inspection_score': i_score,\n",
    "                        'inspection_result': i_result,\n",
    "                        'inspection_closed_business': i_closed,\n",
    "                        'violation_type': v_type,\n",
    "                        'violation_description': v_desc,\n",
    "                        'violation_points': v_points\n",
    "                        }\n",
    "df = pd.DataFrame(business_attributes)"
   ]
  },
  {
   "cell_type": "code",
   "execution_count": 18,
   "metadata": {},
   "outputs": [
    {
     "data": {
      "text/html": [
       "<div>\n",
       "<style scoped>\n",
       "    .dataframe tbody tr th:only-of-type {\n",
       "        vertical-align: middle;\n",
       "    }\n",
       "\n",
       "    .dataframe tbody tr th {\n",
       "        vertical-align: top;\n",
       "    }\n",
       "\n",
       "    .dataframe thead th {\n",
       "        text-align: right;\n",
       "    }\n",
       "</style>\n",
       "<table border=\"1\" class=\"dataframe\">\n",
       "  <thead>\n",
       "    <tr style=\"text-align: right;\">\n",
       "      <th></th>\n",
       "      <th>address</th>\n",
       "      <th>city</th>\n",
       "      <th>inspection_closed_business</th>\n",
       "      <th>inspection_date</th>\n",
       "      <th>inspection_result</th>\n",
       "      <th>inspection_score</th>\n",
       "      <th>inspection_type</th>\n",
       "      <th>latitude</th>\n",
       "      <th>longitude</th>\n",
       "      <th>name</th>\n",
       "      <th>violation_description</th>\n",
       "      <th>violation_points</th>\n",
       "      <th>violation_type</th>\n",
       "      <th>zip_code</th>\n",
       "    </tr>\n",
       "  </thead>\n",
       "  <tbody>\n",
       "    <tr>\n",
       "      <th>0</th>\n",
       "      <td>10 MERCER ST</td>\n",
       "      <td>Seattle</td>\n",
       "      <td>N</td>\n",
       "      <td>10/10/2016</td>\n",
       "      <td>Unsatisfactory</td>\n",
       "      <td>15</td>\n",
       "      <td>Routine Inspection/Field Review</td>\n",
       "      <td>47.6250635431</td>\n",
       "      <td>-122.3561914741</td>\n",
       "      <td>10 MERCER RESTAURANT</td>\n",
       "      <td>1400 - Raw meats below and away from ready to ...</td>\n",
       "      <td>5</td>\n",
       "      <td>RED</td>\n",
       "      <td>98109</td>\n",
       "    </tr>\n",
       "    <tr>\n",
       "      <th>1</th>\n",
       "      <td>10 MERCER ST</td>\n",
       "      <td>Seattle</td>\n",
       "      <td>N</td>\n",
       "      <td>10/10/2016</td>\n",
       "      <td>Unsatisfactory</td>\n",
       "      <td>15</td>\n",
       "      <td>Routine Inspection/Field Review</td>\n",
       "      <td>47.6250635431</td>\n",
       "      <td>-122.3561914741</td>\n",
       "      <td>10 MERCER RESTAURANT</td>\n",
       "      <td>2120 - Proper cold holding temperatures ( 42 d...</td>\n",
       "      <td>5</td>\n",
       "      <td>RED</td>\n",
       "      <td>98109</td>\n",
       "    </tr>\n",
       "    <tr>\n",
       "      <th>2</th>\n",
       "      <td>10 MERCER ST</td>\n",
       "      <td>Seattle</td>\n",
       "      <td>N</td>\n",
       "      <td>10/10/2016</td>\n",
       "      <td>Unsatisfactory</td>\n",
       "      <td>15</td>\n",
       "      <td>Routine Inspection/Field Review</td>\n",
       "      <td>47.6250635431</td>\n",
       "      <td>-122.3561914741</td>\n",
       "      <td>10 MERCER RESTAURANT</td>\n",
       "      <td>4100 - Warewashing facilities properly install...</td>\n",
       "      <td>5</td>\n",
       "      <td>BLUE</td>\n",
       "      <td>98109</td>\n",
       "    </tr>\n",
       "    <tr>\n",
       "      <th>3</th>\n",
       "      <td>10 MERCER ST</td>\n",
       "      <td>Seattle</td>\n",
       "      <td>N</td>\n",
       "      <td>07/07/2016</td>\n",
       "      <td>Complete</td>\n",
       "      <td>N/A</td>\n",
       "      <td>Consultation/Education - Field</td>\n",
       "      <td>47.6250635431</td>\n",
       "      <td>-122.3561914741</td>\n",
       "      <td>10 MERCER RESTAURANT</td>\n",
       "      <td>None</td>\n",
       "      <td>None</td>\n",
       "      <td>None</td>\n",
       "      <td>98109</td>\n",
       "    </tr>\n",
       "    <tr>\n",
       "      <th>4</th>\n",
       "      <td>10 MERCER ST</td>\n",
       "      <td>Seattle</td>\n",
       "      <td>N</td>\n",
       "      <td>02/24/2016</td>\n",
       "      <td>Unsatisfactory</td>\n",
       "      <td>15</td>\n",
       "      <td>Routine Inspection/Field Review</td>\n",
       "      <td>47.6250635431</td>\n",
       "      <td>-122.3561914741</td>\n",
       "      <td>10 MERCER RESTAURANT</td>\n",
       "      <td>2500 - Toxic substances properly identified,...</td>\n",
       "      <td>10</td>\n",
       "      <td>RED</td>\n",
       "      <td>98109</td>\n",
       "    </tr>\n",
       "  </tbody>\n",
       "</table>\n",
       "</div>"
      ],
      "text/plain": [
       "        address     city inspection_closed_business inspection_date  \\\n",
       "0  10 MERCER ST  Seattle                          N      10/10/2016   \n",
       "1  10 MERCER ST  Seattle                          N      10/10/2016   \n",
       "2  10 MERCER ST  Seattle                          N      10/10/2016   \n",
       "3  10 MERCER ST  Seattle                          N      07/07/2016   \n",
       "4  10 MERCER ST  Seattle                          N      02/24/2016   \n",
       "\n",
       "  inspection_result inspection_score                  inspection_type  \\\n",
       "0    Unsatisfactory               15  Routine Inspection/Field Review   \n",
       "1    Unsatisfactory               15  Routine Inspection/Field Review   \n",
       "2    Unsatisfactory               15  Routine Inspection/Field Review   \n",
       "3          Complete              N/A   Consultation/Education - Field   \n",
       "4    Unsatisfactory               15  Routine Inspection/Field Review   \n",
       "\n",
       "        latitude        longitude                  name  \\\n",
       "0  47.6250635431  -122.3561914741  10 MERCER RESTAURANT   \n",
       "1  47.6250635431  -122.3561914741  10 MERCER RESTAURANT   \n",
       "2  47.6250635431  -122.3561914741  10 MERCER RESTAURANT   \n",
       "3  47.6250635431  -122.3561914741  10 MERCER RESTAURANT   \n",
       "4  47.6250635431  -122.3561914741  10 MERCER RESTAURANT   \n",
       "\n",
       "                               violation_description violation_points  \\\n",
       "0  1400 - Raw meats below and away from ready to ...                5   \n",
       "1  2120 - Proper cold holding temperatures ( 42 d...                5   \n",
       "2  4100 - Warewashing facilities properly install...                5   \n",
       "3                                               None             None   \n",
       "4    2500 - Toxic substances properly identified,...               10   \n",
       "\n",
       "  violation_type zip_code  \n",
       "0            RED    98109  \n",
       "1            RED    98109  \n",
       "2           BLUE    98109  \n",
       "3           None    98109  \n",
       "4            RED    98109  "
      ]
     },
     "execution_count": 18,
     "metadata": {},
     "output_type": "execute_result"
    }
   ],
   "source": [
    "df.head(5)"
   ]
  },
  {
   "cell_type": "markdown",
   "metadata": {
    "collapsed": true
   },
   "source": [
    "## Data cleaning<a id=\"clean\"></id>\n",
    "[<a href=\"#top\">back to top</a>]\n",
    "\n",
    "The above output shows that there is inconsistent formatting in some of the columns. These issues need to be cleaned up before we can dump this info into pretty plots and algorithms!"
   ]
  },
  {
   "cell_type": "code",
   "execution_count": 19,
   "metadata": {},
   "outputs": [
    {
     "name": "stdout",
     "output_type": "stream",
     "text": [
      "<class 'pandas.core.frame.DataFrame'>\n",
      "RangeIndex: 969 entries, 0 to 968\n",
      "Data columns (total 14 columns):\n",
      "address                       969 non-null object\n",
      "city                          969 non-null object\n",
      "inspection_closed_business    969 non-null object\n",
      "inspection_date               969 non-null object\n",
      "inspection_result             969 non-null object\n",
      "inspection_score              969 non-null object\n",
      "inspection_type               969 non-null object\n",
      "latitude                      963 non-null object\n",
      "longitude                     963 non-null object\n",
      "name                          969 non-null object\n",
      "violation_description         551 non-null object\n",
      "violation_points              551 non-null object\n",
      "violation_type                551 non-null object\n",
      "zip_code                      969 non-null object\n",
      "dtypes: object(14)\n",
      "memory usage: 106.1+ KB\n"
     ]
    }
   ],
   "source": [
    "df.info()"
   ]
  },
  {
   "cell_type": "markdown",
   "metadata": {},
   "source": [
    "These columns need to be changed: \n",
    "\n",
    "* inspection_date should be datetime\n",
    "* inspection_score, violation_points, latitude, and longitude should be float\n",
    "* zip_code should be integer"
   ]
  },
  {
   "cell_type": "code",
   "execution_count": 20,
   "metadata": {},
   "outputs": [],
   "source": [
    "# fix data types\n",
    "df['inspection_date'] = pd.to_datetime(df['inspection_date'])\n",
    "df['inspection_score'] = pd.to_numeric(df['inspection_score'], errors='ignore')\n",
    "df['violation_points'] = pd.to_numeric(df['violation_points'], errors='ignore')\n",
    "df['latitude'] = pd.to_numeric(df['latitude'], errors='ignore')\n",
    "df['longitude'] = pd.to_numeric(df['longitude'], errors='ignore')\n",
    "df['zip_code'] = pd.to_numeric(df['zip_code'], errors='ignore')"
   ]
  },
  {
   "cell_type": "code",
   "execution_count": 21,
   "metadata": {},
   "outputs": [],
   "source": [
    "# format text columns to be title (proper) case for consistency\n",
    "df['city'] = df['city'].str.title()\n",
    "df['address'] = df['address'].str.title()\n",
    "df['name'] = df['name'].str.title()\n",
    "df['violation_type'] = df['violation_type'].str.title()"
   ]
  },
  {
   "cell_type": "code",
   "execution_count": 22,
   "metadata": {},
   "outputs": [],
   "source": [
    "# split the violation description into 2 columns\n",
    "df[['violation_code', 'violation_description']] = df['violation_description'].str.split(' - ', 1, expand=True)"
   ]
  },
  {
   "cell_type": "code",
   "execution_count": 23,
   "metadata": {},
   "outputs": [
    {
     "data": {
      "text/html": [
       "<div>\n",
       "<style scoped>\n",
       "    .dataframe tbody tr th:only-of-type {\n",
       "        vertical-align: middle;\n",
       "    }\n",
       "\n",
       "    .dataframe tbody tr th {\n",
       "        vertical-align: top;\n",
       "    }\n",
       "\n",
       "    .dataframe thead th {\n",
       "        text-align: right;\n",
       "    }\n",
       "</style>\n",
       "<table border=\"1\" class=\"dataframe\">\n",
       "  <thead>\n",
       "    <tr style=\"text-align: right;\">\n",
       "      <th></th>\n",
       "      <th>address</th>\n",
       "      <th>city</th>\n",
       "      <th>inspection_closed_business</th>\n",
       "      <th>inspection_date</th>\n",
       "      <th>inspection_result</th>\n",
       "      <th>inspection_score</th>\n",
       "      <th>inspection_type</th>\n",
       "      <th>latitude</th>\n",
       "      <th>longitude</th>\n",
       "      <th>name</th>\n",
       "      <th>violation_description</th>\n",
       "      <th>violation_points</th>\n",
       "      <th>violation_type</th>\n",
       "      <th>zip_code</th>\n",
       "      <th>violation_code</th>\n",
       "    </tr>\n",
       "  </thead>\n",
       "  <tbody>\n",
       "    <tr>\n",
       "      <th>0</th>\n",
       "      <td>10 Mercer St</td>\n",
       "      <td>Seattle</td>\n",
       "      <td>N</td>\n",
       "      <td>2016-10-10</td>\n",
       "      <td>Unsatisfactory</td>\n",
       "      <td>15</td>\n",
       "      <td>Routine Inspection/Field Review</td>\n",
       "      <td>47.625064</td>\n",
       "      <td>-122.356191</td>\n",
       "      <td>10 Mercer Restaurant</td>\n",
       "      <td>Raw meats below and away from ready to eat foo...</td>\n",
       "      <td>5.0</td>\n",
       "      <td>Red</td>\n",
       "      <td>98109</td>\n",
       "      <td>1400</td>\n",
       "    </tr>\n",
       "    <tr>\n",
       "      <th>1</th>\n",
       "      <td>10 Mercer St</td>\n",
       "      <td>Seattle</td>\n",
       "      <td>N</td>\n",
       "      <td>2016-10-10</td>\n",
       "      <td>Unsatisfactory</td>\n",
       "      <td>15</td>\n",
       "      <td>Routine Inspection/Field Review</td>\n",
       "      <td>47.625064</td>\n",
       "      <td>-122.356191</td>\n",
       "      <td>10 Mercer Restaurant</td>\n",
       "      <td>Proper cold holding temperatures ( 42 degrees ...</td>\n",
       "      <td>5.0</td>\n",
       "      <td>Red</td>\n",
       "      <td>98109</td>\n",
       "      <td>2120</td>\n",
       "    </tr>\n",
       "    <tr>\n",
       "      <th>2</th>\n",
       "      <td>10 Mercer St</td>\n",
       "      <td>Seattle</td>\n",
       "      <td>N</td>\n",
       "      <td>2016-10-10</td>\n",
       "      <td>Unsatisfactory</td>\n",
       "      <td>15</td>\n",
       "      <td>Routine Inspection/Field Review</td>\n",
       "      <td>47.625064</td>\n",
       "      <td>-122.356191</td>\n",
       "      <td>10 Mercer Restaurant</td>\n",
       "      <td>Warewashing facilities properly installed,...</td>\n",
       "      <td>5.0</td>\n",
       "      <td>Blue</td>\n",
       "      <td>98109</td>\n",
       "      <td>4100</td>\n",
       "    </tr>\n",
       "    <tr>\n",
       "      <th>3</th>\n",
       "      <td>10 Mercer St</td>\n",
       "      <td>Seattle</td>\n",
       "      <td>N</td>\n",
       "      <td>2016-07-07</td>\n",
       "      <td>Complete</td>\n",
       "      <td>N/A</td>\n",
       "      <td>Consultation/Education - Field</td>\n",
       "      <td>47.625064</td>\n",
       "      <td>-122.356191</td>\n",
       "      <td>10 Mercer Restaurant</td>\n",
       "      <td>None</td>\n",
       "      <td>NaN</td>\n",
       "      <td>None</td>\n",
       "      <td>98109</td>\n",
       "      <td>None</td>\n",
       "    </tr>\n",
       "    <tr>\n",
       "      <th>4</th>\n",
       "      <td>10 Mercer St</td>\n",
       "      <td>Seattle</td>\n",
       "      <td>N</td>\n",
       "      <td>2016-02-24</td>\n",
       "      <td>Unsatisfactory</td>\n",
       "      <td>15</td>\n",
       "      <td>Routine Inspection/Field Review</td>\n",
       "      <td>47.625064</td>\n",
       "      <td>-122.356191</td>\n",
       "      <td>10 Mercer Restaurant</td>\n",
       "      <td>Toxic substances properly identified,...</td>\n",
       "      <td>10.0</td>\n",
       "      <td>Red</td>\n",
       "      <td>98109</td>\n",
       "      <td>2500</td>\n",
       "    </tr>\n",
       "  </tbody>\n",
       "</table>\n",
       "</div>"
      ],
      "text/plain": [
       "        address     city inspection_closed_business inspection_date  \\\n",
       "0  10 Mercer St  Seattle                          N      2016-10-10   \n",
       "1  10 Mercer St  Seattle                          N      2016-10-10   \n",
       "2  10 Mercer St  Seattle                          N      2016-10-10   \n",
       "3  10 Mercer St  Seattle                          N      2016-07-07   \n",
       "4  10 Mercer St  Seattle                          N      2016-02-24   \n",
       "\n",
       "  inspection_result inspection_score                  inspection_type  \\\n",
       "0    Unsatisfactory               15  Routine Inspection/Field Review   \n",
       "1    Unsatisfactory               15  Routine Inspection/Field Review   \n",
       "2    Unsatisfactory               15  Routine Inspection/Field Review   \n",
       "3          Complete              N/A   Consultation/Education - Field   \n",
       "4    Unsatisfactory               15  Routine Inspection/Field Review   \n",
       "\n",
       "    latitude   longitude                  name  \\\n",
       "0  47.625064 -122.356191  10 Mercer Restaurant   \n",
       "1  47.625064 -122.356191  10 Mercer Restaurant   \n",
       "2  47.625064 -122.356191  10 Mercer Restaurant   \n",
       "3  47.625064 -122.356191  10 Mercer Restaurant   \n",
       "4  47.625064 -122.356191  10 Mercer Restaurant   \n",
       "\n",
       "                               violation_description  violation_points  \\\n",
       "0  Raw meats below and away from ready to eat foo...               5.0   \n",
       "1  Proper cold holding temperatures ( 42 degrees ...               5.0   \n",
       "2      Warewashing facilities properly installed,...               5.0   \n",
       "3                                               None               NaN   \n",
       "4           Toxic substances properly identified,...              10.0   \n",
       "\n",
       "  violation_type  zip_code violation_code  \n",
       "0            Red     98109           1400  \n",
       "1            Red     98109           2120  \n",
       "2           Blue     98109           4100  \n",
       "3           None     98109           None  \n",
       "4            Red     98109           2500  "
      ]
     },
     "execution_count": 23,
     "metadata": {},
     "output_type": "execute_result"
    }
   ],
   "source": [
    "df.head(5)"
   ]
  },
  {
   "cell_type": "code",
   "execution_count": 24,
   "metadata": {},
   "outputs": [
    {
     "data": {
      "text/plain": [
       "array(['Raw meats below and away from ready to eat food; species separated',\n",
       "       'Proper cold holding temperatures ( 42 degrees F to 45 degrees F)',\n",
       "       'Warewashing facilities properly installed,...', None,\n",
       "       'Toxic substances properly identified,...',\n",
       "       'Food-contact surfaces maintained, clean, sanitized',\n",
       "       'Proper cooling procedure', 'Adequate handwashing facilities',\n",
       "       'Proper cold holding temperatures (greater than  45 degrees F)',\n",
       "       'Wiping cloths properly used, stored, proper sanitizer',\n",
       "       'Utensils, equipment, linens properly stored,...',\n",
       "       'In-use utensils properly stored',\n",
       "       'Potential food contamination prevented during delivery,  preparation, storage, display',\n",
       "       'Food Worker Cards current for all food workers; new food workers trained',\n",
       "       'Plumbing properly sized, installed,...',\n",
       "       'Proper washing of fruits and vegetables',\n",
       "       'Proper Consumer Advisory posted for raw ...',\n",
       "       'Proper shellstock ID; wild mushroom ID;  parasite destruction procedures for fish',\n",
       "       'No room temperature storage; proper use of time...',\n",
       "       'Garbage, refuse properly disposed; facilities...',\n",
       "       'Adequate equipment for temperature control',\n",
       "       'Non-food contact surfaces maintained and clean',\n",
       "       'Food and non-food surfaces properly used and...',\n",
       "       'Adequate ventilation; lighting; designated area...',\n",
       "       'Single use and single service articles properly...',\n",
       "       'Accurate thermometer provided and used ...',\n",
       "       'Food received at proper temperature',\n",
       "       'Proper thawing methods used',\n",
       "       'Proper barriers used to prevent bare hand contact with ready to eat foods.',\n",
       "       'Proper labeling, signage',\n",
       "       'Physical facilities properly installed,...',\n",
       "       'Hands washed as required',\n",
       "       'Proper hot holding temperatures (less than130 degrees)',\n",
       "       'Insects, rodents, animals not present; entrance controlled.',\n",
       "       'Compliance with risk control plans, variances, plan of operation; valid permit; appr procedur',\n",
       "       'Variance obtained for specialized processing ...',\n",
       "       'Proper handling of pooled eggs',\n",
       "       'Food contact surfaces and utensils used for raw meat thoroughly cleaned and sanitized.  no ..',\n",
       "       'Proper cooking time and temperature; proper use of non-continuous cooking',\n",
       "       'Proper reheating procedures for hot holding'], dtype=object)"
      ]
     },
     "execution_count": 24,
     "metadata": {},
     "output_type": "execute_result"
    }
   ],
   "source": [
    "df.violation_description.unique()"
   ]
  },
  {
   "cell_type": "markdown",
   "metadata": {},
   "source": [
    "## Visual inspection<a id=\"plot\"></id>\n",
    "[<a href=\"#top\">back to top</a>]"
   ]
  },
  {
   "cell_type": "code",
   "execution_count": 25,
   "metadata": {},
   "outputs": [],
   "source": [
    "# violations by result\n",
    "x = df.groupby('inspection_result')['violation_description'].count()"
   ]
  },
  {
   "cell_type": "code",
   "execution_count": 26,
   "metadata": {},
   "outputs": [
    {
     "data": {
      "text/plain": [
       "inspection_result\n",
       "Complete            0\n",
       "Satisfactory      129\n",
       "Unsatisfactory    422\n",
       "Name: violation_description, dtype: int64"
      ]
     },
     "execution_count": 26,
     "metadata": {},
     "output_type": "execute_result"
    }
   ],
   "source": [
    "# x has these levels\n",
    "x"
   ]
  },
  {
   "cell_type": "code",
   "execution_count": 27,
   "metadata": {},
   "outputs": [
    {
     "data": {
      "text/html": [
       "<div class=\"toyplot\" id=\"t84bc88a2f0f54f03bc884621f9c1646c\" style=\"text-align:center\"><svg class=\"toyplot-canvas-Canvas\" height=\"300.0px\" id=\"td977c8018b304e06ba3b44bcf2ef5a11\" preserveAspectRatio=\"xMidYMid meet\" style=\"background-color:transparent;fill:rgb(16.1%,15.3%,14.1%);fill-opacity:1.0;font-family:Helvetica;font-size:12px;opacity:1.0;stroke:rgb(16.1%,15.3%,14.1%);stroke-opacity:1.0;stroke-width:1.0\" viewBox=\"0 0 300.0 300.0\" width=\"300.0px\" xmlns=\"http://www.w3.org/2000/svg\" xmlns:toyplot=\"http://www.sandia.gov/toyplot\" xmlns:xlink=\"http://www.w3.org/1999/xlink\"><g class=\"toyplot-coordinates-Cartesian\" id=\"t95c0f1f24f004a38b6c953f4c14c4521\"><clipPath id=\"tc406dd9d684b4595870819875135af10\"><rect height=\"220.0\" width=\"220.0\" x=\"40.0\" y=\"40.0\"></rect></clipPath><g clip-path=\"url(#tc406dd9d684b4595870819875135af10)\"><g class=\"toyplot-mark-BarMagnitudes\" id=\"t9a94d427d014413fa0aa9cb5e1d94015\" style=\"stroke:rgb(100%,100%,100%);stroke-opacity:1.0;stroke-width:1.0\"><g class=\"toyplot-Series\"><rect class=\"toyplot-Datum\" height=\"0.0\" style=\"fill:rgb(40%,76.1%,64.7%);fill-opacity:1.0;opacity:1.0;stroke:rgb(100%,100%,100%);stroke-opacity:1.0;stroke-width:1.0\" width=\"66.66666666666666\" x=\"50.0\" y=\"250.0\"></rect><rect class=\"toyplot-Datum\" height=\"61.13744075829385\" style=\"fill:rgb(40%,76.1%,64.7%);fill-opacity:1.0;opacity:1.0;stroke:rgb(100%,100%,100%);stroke-opacity:1.0;stroke-width:1.0\" width=\"66.66666666666666\" x=\"116.66666666666666\" y=\"188.86255924170615\"></rect><rect class=\"toyplot-Datum\" height=\"200.0\" style=\"fill:rgb(40%,76.1%,64.7%);fill-opacity:1.0;opacity:1.0;stroke:rgb(100%,100%,100%);stroke-opacity:1.0;stroke-width:1.0\" width=\"66.66666666666669\" x=\"183.33333333333331\" y=\"50.0\"></rect></g></g></g><g class=\"toyplot-coordinates-Axis\" id=\"tf79c0f59c22044c09c8f6947916264cf\" transform=\"translate(50.0,250.0)translate(0,10.0)\"><line style=\"\" x1=\"0\" x2=\"200.0\" y1=\"0\" y2=\"0\"></line><g><line style=\"\" x1=\"33.33333333333333\" x2=\"33.33333333333333\" y1=\"0\" y2=\"-5\"></line><line style=\"\" x1=\"100.0\" x2=\"100.0\" y1=\"0\" y2=\"-5\"></line><line style=\"\" x1=\"166.66666666666669\" x2=\"166.66666666666669\" y1=\"0\" y2=\"-5\"></line></g><g><g transform=\"translate(33.33333333333333,6)\"><text style=\"fill:rgb(16.1%,15.3%,14.1%);fill-opacity:1.0;font-family:helvetica;font-size:10.0px;font-weight:normal;stroke:none;vertical-align:baseline;white-space:pre\" x=\"-21.395\" y=\"8.555\">Complete</text></g><g transform=\"translate(100.0,6)\"><text style=\"fill:rgb(16.1%,15.3%,14.1%);fill-opacity:1.0;font-family:helvetica;font-size:10.0px;font-weight:normal;stroke:none;vertical-align:baseline;white-space:pre\" x=\"-26.12\" y=\"8.555\">Satisfactory</text></g><g transform=\"translate(166.66666666666669,6)\"><text style=\"fill:rgb(16.1%,15.3%,14.1%);fill-opacity:1.0;font-family:helvetica;font-size:10.0px;font-weight:normal;stroke:none;vertical-align:baseline;white-space:pre\" x=\"-31.675\" y=\"8.555\">Unsatisfactory</text></g></g><g transform=\"translate(100.0,22)\"><text style=\"fill:rgb(16.1%,15.3%,14.1%);fill-opacity:1.0;font-family:helvetica;font-size:12.0px;font-weight:bold;stroke:none;vertical-align:baseline;white-space:pre\" x=\"-48.012\" y=\"10.265999999999998\">Inspection result</text></g><g class=\"toyplot-coordinates-Axis-coordinates\" style=\"visibility:hidden\" transform=\"\"><line style=\"stroke:rgb(43.9%,50.2%,56.5%);stroke-opacity:1.0;stroke-width:1.0\" x1=\"0\" x2=\"0\" y1=\"-3.0\" y2=\"4.5\"></line><text style=\"alignment-baseline:alphabetic;fill:rgb(43.9%,50.2%,56.5%);fill-opacity:1.0;font-size:10px;font-weight:normal;stroke:none;text-anchor:middle\" x=\"0\" y=\"-6\"></text></g></g><g class=\"toyplot-coordinates-Axis\" id=\"td43c614bb60648db8645d1eb3419b662\" transform=\"translate(50.0,250.0)rotate(-90.0)translate(0,-10.0)\"><line style=\"\" x1=\"0\" x2=\"200.0\" y1=\"0\" y2=\"0\"></line><g><g transform=\"translate(0.0,-6)\"><text style=\"fill:rgb(16.1%,15.3%,14.1%);fill-opacity:1.0;font-family:helvetica;font-size:10.0px;font-weight:normal;stroke:none;vertical-align:baseline;white-space:pre\" x=\"-2.78\" y=\"-4.440892098500626e-16\">0</text></g><g transform=\"translate(47.39336492890995,-6)\"><text style=\"fill:rgb(16.1%,15.3%,14.1%);fill-opacity:1.0;font-family:helvetica;font-size:10.0px;font-weight:normal;stroke:none;vertical-align:baseline;white-space:pre\" x=\"-8.34\" y=\"-4.440892098500626e-16\">100</text></g><g transform=\"translate(94.7867298578199,-6)\"><text style=\"fill:rgb(16.1%,15.3%,14.1%);fill-opacity:1.0;font-family:helvetica;font-size:10.0px;font-weight:normal;stroke:none;vertical-align:baseline;white-space:pre\" x=\"-8.34\" y=\"-4.440892098500626e-16\">200</text></g><g transform=\"translate(142.18009478672985,-6)\"><text style=\"fill:rgb(16.1%,15.3%,14.1%);fill-opacity:1.0;font-family:helvetica;font-size:10.0px;font-weight:normal;stroke:none;vertical-align:baseline;white-space:pre\" x=\"-8.34\" y=\"-4.440892098500626e-16\">300</text></g><g transform=\"translate(189.5734597156398,-6)\"><text style=\"fill:rgb(16.1%,15.3%,14.1%);fill-opacity:1.0;font-family:helvetica;font-size:10.0px;font-weight:normal;stroke:none;vertical-align:baseline;white-space:pre\" x=\"-8.34\" y=\"-4.440892098500626e-16\">400</text></g></g><g class=\"toyplot-coordinates-Axis-coordinates\" style=\"visibility:hidden\" transform=\"\"><line style=\"stroke:rgb(43.9%,50.2%,56.5%);stroke-opacity:1.0;stroke-width:1.0\" x1=\"0\" x2=\"0\" y1=\"3.0\" y2=\"-4.5\"></line><text style=\"alignment-baseline:hanging;fill:rgb(43.9%,50.2%,56.5%);fill-opacity:1.0;font-size:10px;font-weight:normal;stroke:none;text-anchor:middle\" x=\"0\" y=\"6\"></text></g></g><g transform=\"translate(150.0,42.0)\"><text style=\"fill:rgb(16.1%,15.3%,14.1%);fill-opacity:1.0;font-family:helvetica;font-size:14.0px;font-weight:bold;stroke:none;vertical-align:baseline;white-space:pre\" x=\"-70.399\" y=\"-4.823\">Number of Violations</text></g></g></svg><div class=\"toyplot-behavior\"><script>(function()\n",
       "{\n",
       "var modules={};\n",
       "modules[\"toyplot/tables\"] = (function()\n",
       "    {\n",
       "        var tables = [];\n",
       "\n",
       "        var module = {};\n",
       "\n",
       "        module.set = function(owner, key, names, columns)\n",
       "        {\n",
       "            tables.push({owner: owner, key: key, names: names, columns: columns});\n",
       "        }\n",
       "\n",
       "        module.get = function(owner, key)\n",
       "        {\n",
       "            for(var i = 0; i != tables.length; ++i)\n",
       "            {\n",
       "                var table = tables[i];\n",
       "                if(table.owner != owner)\n",
       "                    continue;\n",
       "                if(table.key != key)\n",
       "                    continue;\n",
       "                return {names: table.names, columns: table.columns};\n",
       "            }\n",
       "        }\n",
       "\n",
       "        module.get_csv = function(owner, key)\n",
       "        {\n",
       "            var table = module.get(owner, key);\n",
       "            if(table != undefined)\n",
       "            {\n",
       "                var csv = \"\";\n",
       "                csv += table.names.join(\",\") + \"\\n\";\n",
       "                for(var i = 0; i != table.columns[0].length; ++i)\n",
       "                {\n",
       "                  for(var j = 0; j != table.columns.length; ++j)\n",
       "                  {\n",
       "                    if(j)\n",
       "                      csv += \",\";\n",
       "                    csv += table.columns[j][i];\n",
       "                  }\n",
       "                  csv += \"\\n\";\n",
       "                }\n",
       "                return csv;\n",
       "            }\n",
       "        }\n",
       "\n",
       "        return module;\n",
       "    })();\n",
       "modules[\"toyplot/root/id\"] = \"t84bc88a2f0f54f03bc884621f9c1646c\";\n",
       "modules[\"toyplot/root\"] = (function(root_id)\n",
       "    {\n",
       "        return document.querySelector(\"#\" + root_id);\n",
       "    })(modules[\"toyplot/root/id\"]);\n",
       "modules[\"toyplot/canvas/id\"] = \"td977c8018b304e06ba3b44bcf2ef5a11\";\n",
       "modules[\"toyplot/canvas\"] = (function(canvas_id)\n",
       "    {\n",
       "        return document.querySelector(\"#\" + canvas_id);\n",
       "    })(modules[\"toyplot/canvas/id\"]);\n",
       "modules[\"toyplot/menus/context\"] = (function(root, canvas)\n",
       "    {\n",
       "        var wrapper = document.createElement(\"div\");\n",
       "        wrapper.innerHTML = \"<ul class='toyplot-context-menu' style='background:#eee; border:1px solid #b8b8b8; border-radius:5px; box-shadow: 0px 0px 8px rgba(0%,0%,0%,0.25); margin:0; padding:3px 0; position:fixed; visibility:hidden;'></ul>\"\n",
       "        var menu = wrapper.firstChild;\n",
       "\n",
       "        root.appendChild(menu);\n",
       "\n",
       "        var items = [];\n",
       "\n",
       "        var ignore_mouseup = null;\n",
       "        function open_menu(e)\n",
       "        {\n",
       "            var show_menu = false;\n",
       "            for(var index=0; index != items.length; ++index)\n",
       "            {\n",
       "                var item = items[index];\n",
       "                if(item.show(e))\n",
       "                {\n",
       "                    item.item.style.display = \"block\";\n",
       "                    show_menu = true;\n",
       "                }\n",
       "                else\n",
       "                {\n",
       "                    item.item.style.display = \"none\";\n",
       "                }\n",
       "            }\n",
       "\n",
       "            if(show_menu)\n",
       "            {\n",
       "                ignore_mouseup = true;\n",
       "                menu.style.left = (e.clientX + 1) + \"px\";\n",
       "                menu.style.top = (e.clientY - 5) + \"px\";\n",
       "                menu.style.visibility = \"visible\";\n",
       "                e.stopPropagation();\n",
       "                e.preventDefault();\n",
       "            }\n",
       "        }\n",
       "\n",
       "        function close_menu()\n",
       "        {\n",
       "            menu.style.visibility = \"hidden\";\n",
       "        }\n",
       "\n",
       "        function contextmenu(e)\n",
       "        {\n",
       "            open_menu(e);\n",
       "        }\n",
       "\n",
       "        function mousemove(e)\n",
       "        {\n",
       "            ignore_mouseup = false;\n",
       "        }\n",
       "\n",
       "        function mouseup(e)\n",
       "        {\n",
       "            if(ignore_mouseup)\n",
       "            {\n",
       "                ignore_mouseup = false;\n",
       "                return;\n",
       "            }\n",
       "            close_menu();\n",
       "        }\n",
       "\n",
       "        function keydown(e)\n",
       "        {\n",
       "            if(e.key == \"Escape\" || e.key == \"Esc\" || e.keyCode == 27)\n",
       "            {\n",
       "                close_menu();\n",
       "            }\n",
       "        }\n",
       "\n",
       "        canvas.addEventListener(\"contextmenu\", contextmenu);\n",
       "        canvas.addEventListener(\"mousemove\", mousemove);\n",
       "        document.addEventListener(\"mouseup\", mouseup);\n",
       "        document.addEventListener(\"keydown\", keydown);\n",
       "\n",
       "        var module = {};\n",
       "        module.add_item = function(label, show, activate)\n",
       "        {\n",
       "            var wrapper = document.createElement(\"div\");\n",
       "            wrapper.innerHTML = \"<li class='toyplot-context-menu-item' style='background:#eee; color:#333; padding:2px 20px; list-style:none; margin:0; text-align:left;'>\" + label + \"</li>\"\n",
       "            var item = wrapper.firstChild;\n",
       "\n",
       "            items.push({item: item, show: show});\n",
       "\n",
       "            function mouseover()\n",
       "            {\n",
       "                this.style.background = \"steelblue\";\n",
       "                this.style.color = \"white\";\n",
       "            }\n",
       "\n",
       "            function mouseout()\n",
       "            {\n",
       "                this.style.background = \"#eee\";\n",
       "                this.style.color = \"#333\";\n",
       "            }\n",
       "\n",
       "            function choose_item(e)\n",
       "            {\n",
       "                close_menu();\n",
       "                activate();\n",
       "\n",
       "                e.stopPropagation();\n",
       "                e.preventDefault();\n",
       "            }\n",
       "\n",
       "            item.addEventListener(\"mouseover\", mouseover);\n",
       "            item.addEventListener(\"mouseout\", mouseout);\n",
       "            item.addEventListener(\"mouseup\", choose_item);\n",
       "            item.addEventListener(\"contextmenu\", choose_item);\n",
       "\n",
       "            menu.appendChild(item);\n",
       "        };\n",
       "        return module;\n",
       "    })(modules[\"toyplot/root\"],modules[\"toyplot/canvas\"]);\n",
       "modules[\"toyplot/io\"] = (function()\n",
       "    {\n",
       "        var module = {};\n",
       "        module.save_file = function(mime_type, charset, data, filename)\n",
       "        {\n",
       "            var uri = \"data:\" + mime_type + \";charset=\" + charset + \",\" + data;\n",
       "            uri = encodeURI(uri);\n",
       "\n",
       "            var link = document.createElement(\"a\");\n",
       "            if(typeof link.download != \"undefined\")\n",
       "            {\n",
       "              link.href = uri;\n",
       "              link.style = \"visibility:hidden\";\n",
       "              link.download = filename;\n",
       "\n",
       "              document.body.appendChild(link);\n",
       "              link.click();\n",
       "              document.body.removeChild(link);\n",
       "            }\n",
       "            else\n",
       "            {\n",
       "              window.open(uri);\n",
       "            }\n",
       "        };\n",
       "        return module;\n",
       "    })();\n",
       "modules[\"toyplot.coordinates.Axis\"] = (\n",
       "        function(canvas)\n",
       "        {\n",
       "            function sign(x)\n",
       "            {\n",
       "                return x < 0 ? -1 : x > 0 ? 1 : 0;\n",
       "            }\n",
       "\n",
       "            function mix(a, b, amount)\n",
       "            {\n",
       "                return ((1.0 - amount) * a) + (amount * b);\n",
       "            }\n",
       "\n",
       "            function log(x, base)\n",
       "            {\n",
       "                return Math.log(Math.abs(x)) / Math.log(base);\n",
       "            }\n",
       "\n",
       "            function in_range(a, x, b)\n",
       "            {\n",
       "                var left = Math.min(a, b);\n",
       "                var right = Math.max(a, b);\n",
       "                return left <= x && x <= right;\n",
       "            }\n",
       "\n",
       "            function inside(range, projection)\n",
       "            {\n",
       "                for(var i = 0; i != projection.length; ++i)\n",
       "                {\n",
       "                    var segment = projection[i];\n",
       "                    if(in_range(segment.range.min, range, segment.range.max))\n",
       "                        return true;\n",
       "                }\n",
       "                return false;\n",
       "            }\n",
       "\n",
       "            function to_domain(range, projection)\n",
       "            {\n",
       "                for(var i = 0; i != projection.length; ++i)\n",
       "                {\n",
       "                    var segment = projection[i];\n",
       "                    if(in_range(segment.range.bounds.min, range, segment.range.bounds.max))\n",
       "                    {\n",
       "                        if(segment.scale == \"linear\")\n",
       "                        {\n",
       "                            var amount = (range - segment.range.min) / (segment.range.max - segment.range.min);\n",
       "                            return mix(segment.domain.min, segment.domain.max, amount)\n",
       "                        }\n",
       "                        else if(segment.scale[0] == \"log\")\n",
       "                        {\n",
       "                            var amount = (range - segment.range.min) / (segment.range.max - segment.range.min);\n",
       "                            var base = segment.scale[1];\n",
       "                            return sign(segment.domain.min) * Math.pow(base, mix(log(segment.domain.min, base), log(segment.domain.max, base), amount));\n",
       "                        }\n",
       "                    }\n",
       "                }\n",
       "            }\n",
       "\n",
       "            var axes = {};\n",
       "\n",
       "            function display_coordinates(e)\n",
       "            {\n",
       "                var current = canvas.createSVGPoint();\n",
       "                current.x = e.clientX;\n",
       "                current.y = e.clientY;\n",
       "\n",
       "                for(var axis_id in axes)\n",
       "                {\n",
       "                    var axis = document.querySelector(\"#\" + axis_id);\n",
       "                    var coordinates = axis.querySelector(\".toyplot-coordinates-Axis-coordinates\");\n",
       "                    if(coordinates)\n",
       "                    {\n",
       "                        var projection = axes[axis_id];\n",
       "                        var local = current.matrixTransform(axis.getScreenCTM().inverse());\n",
       "                        if(inside(local.x, projection))\n",
       "                        {\n",
       "                            var domain = to_domain(local.x, projection);\n",
       "                            coordinates.style.visibility = \"visible\";\n",
       "                            coordinates.setAttribute(\"transform\", \"translate(\" + local.x + \")\");\n",
       "                            var text = coordinates.querySelector(\"text\");\n",
       "                            text.textContent = domain.toFixed(2);\n",
       "                        }\n",
       "                        else\n",
       "                        {\n",
       "                            coordinates.style.visibility= \"hidden\";\n",
       "                        }\n",
       "                    }\n",
       "                }\n",
       "            }\n",
       "\n",
       "            canvas.addEventListener(\"click\", display_coordinates);\n",
       "\n",
       "            var module = {};\n",
       "            module.show_coordinates = function(axis_id, projection)\n",
       "            {\n",
       "                axes[axis_id] = projection;\n",
       "            }\n",
       "\n",
       "            return module;\n",
       "        })(modules[\"toyplot/canvas\"]);\n",
       "(function(tables, context_menu, io, owner_id, key, label, names, columns, filename)\n",
       "        {\n",
       "            tables.set(owner_id, key, names, columns);\n",
       "\n",
       "            var owner = document.querySelector(\"#\" + owner_id);\n",
       "            function show_item(e)\n",
       "            {\n",
       "                return owner.contains(e.target);\n",
       "            }\n",
       "\n",
       "            function choose_item()\n",
       "            {\n",
       "                io.save_file(\"text/csv\", \"utf-8\", tables.get_csv(owner_id, key), filename + \".csv\");\n",
       "            }\n",
       "\n",
       "            context_menu.add_item(\"Save \" + label + \" as CSV\", show_item, choose_item);\n",
       "        })(modules[\"toyplot/tables\"],modules[\"toyplot/menus/context\"],modules[\"toyplot/io\"],\"t9a94d427d014413fa0aa9cb5e1d94015\",\"data\",\"bar data\",[\"left\", \"right\", \"baseline\", \"magnitude0\"],[[-0.5, 0.5, 1.5], [0.5, 1.5, 2.5], [0.0, 0.0, 0.0], [0.0, 129.0, 422.0]],\"toyplot\");\n",
       "(function(axis, axis_id, projection)\n",
       "        {\n",
       "            axis.show_coordinates(axis_id, projection);\n",
       "        })(modules[\"toyplot.coordinates.Axis\"],\"tf79c0f59c22044c09c8f6947916264cf\",[{\"domain\": {\"bounds\": {\"max\": Infinity, \"min\": -Infinity}, \"max\": 2.5, \"min\": -0.5}, \"range\": {\"bounds\": {\"max\": Infinity, \"min\": -Infinity}, \"max\": 200.0, \"min\": 0.0}, \"scale\": \"linear\"}]);\n",
       "(function(axis, axis_id, projection)\n",
       "        {\n",
       "            axis.show_coordinates(axis_id, projection);\n",
       "        })(modules[\"toyplot.coordinates.Axis\"],\"td43c614bb60648db8645d1eb3419b662\",[{\"domain\": {\"bounds\": {\"max\": Infinity, \"min\": -Infinity}, \"max\": 422.0, \"min\": 0.0}, \"range\": {\"bounds\": {\"max\": Infinity, \"min\": -Infinity}, \"max\": 200.0, \"min\": 0.0}, \"scale\": \"linear\"}]);\n",
       "})();</script></div></div>"
      ]
     },
     "metadata": {},
     "output_type": "display_data"
    }
   ],
   "source": [
    "canvas = toyplot.Canvas(width=300, height=300)\n",
    "axes = canvas.cartesian()\n",
    "axes.label.text = \"Number of Violations\"\n",
    "axes.x.label.text = \"Inspection result\"\n",
    "axes.x.ticks.show = True\n",
    "axes.x.ticks.locator = toyplot.locator.Explicit(\n",
    "    [0, 1.0, 2.0],\n",
    "    [\"Complete\", \"Satisfactory\", \"Unsatisfactory\"])\n",
    "mark = axes.bars(x)"
   ]
  },
  {
   "cell_type": "code",
   "execution_count": 28,
   "metadata": {},
   "outputs": [
    {
     "data": {
      "image/png": "[encoded data removed]",
      "text/plain": [
       "<matplotlib.figure.Figure at 0x101927198>"
      ]
     },
     "metadata": {},
     "output_type": "display_data"
    }
   ],
   "source": [
    "df.groupby('inspection_date')[['violation_points', 'inspection_score']].count().plot(color=['orange', 'pink'])\n",
    "plt.xlabel('')\n",
    "plt.ylabel('Count')\n",
    "plt.tight_layout()"
   ]
  },
  {
   "cell_type": "markdown",
   "metadata": {},
   "source": [
    "Nothing too alarming here.. violations track with inspections"
   ]
  },
  {
   "cell_type": "code",
   "execution_count": 30,
   "metadata": {},
   "outputs": [
    {
     "data": {
      "text/html": [
       "<div>\n",
       "<style scoped>\n",
       "    .dataframe tbody tr th:only-of-type {\n",
       "        vertical-align: middle;\n",
       "    }\n",
       "\n",
       "    .dataframe tbody tr th {\n",
       "        vertical-align: top;\n",
       "    }\n",
       "\n",
       "    .dataframe thead th {\n",
       "        text-align: right;\n",
       "    }\n",
       "</style>\n",
       "<table border=\"1\" class=\"dataframe\">\n",
       "  <thead>\n",
       "    <tr style=\"text-align: right;\">\n",
       "      <th></th>\n",
       "      <th>address</th>\n",
       "      <th>city</th>\n",
       "      <th>inspection_closed_business</th>\n",
       "      <th>inspection_date</th>\n",
       "      <th>inspection_result</th>\n",
       "      <th>inspection_score</th>\n",
       "      <th>inspection_type</th>\n",
       "      <th>latitude</th>\n",
       "      <th>longitude</th>\n",
       "      <th>name</th>\n",
       "      <th>violation_description</th>\n",
       "      <th>violation_points</th>\n",
       "      <th>violation_type</th>\n",
       "      <th>zip_code</th>\n",
       "      <th>violation_code</th>\n",
       "    </tr>\n",
       "  </thead>\n",
       "  <tbody>\n",
       "    <tr>\n",
       "      <th>0</th>\n",
       "      <td>10 Mercer St</td>\n",
       "      <td>Seattle</td>\n",
       "      <td>N</td>\n",
       "      <td>2016-10-10</td>\n",
       "      <td>Unsatisfactory</td>\n",
       "      <td>15</td>\n",
       "      <td>Routine Inspection/Field Review</td>\n",
       "      <td>47.625064</td>\n",
       "      <td>-122.356191</td>\n",
       "      <td>10 Mercer Restaurant</td>\n",
       "      <td>Raw meats below and away from ready to eat foo...</td>\n",
       "      <td>5.0</td>\n",
       "      <td>Red</td>\n",
       "      <td>98109</td>\n",
       "      <td>1400</td>\n",
       "    </tr>\n",
       "    <tr>\n",
       "      <th>1</th>\n",
       "      <td>10 Mercer St</td>\n",
       "      <td>Seattle</td>\n",
       "      <td>N</td>\n",
       "      <td>2016-10-10</td>\n",
       "      <td>Unsatisfactory</td>\n",
       "      <td>15</td>\n",
       "      <td>Routine Inspection/Field Review</td>\n",
       "      <td>47.625064</td>\n",
       "      <td>-122.356191</td>\n",
       "      <td>10 Mercer Restaurant</td>\n",
       "      <td>Proper cold holding temperatures ( 42 degrees ...</td>\n",
       "      <td>5.0</td>\n",
       "      <td>Red</td>\n",
       "      <td>98109</td>\n",
       "      <td>2120</td>\n",
       "    </tr>\n",
       "    <tr>\n",
       "      <th>2</th>\n",
       "      <td>10 Mercer St</td>\n",
       "      <td>Seattle</td>\n",
       "      <td>N</td>\n",
       "      <td>2016-10-10</td>\n",
       "      <td>Unsatisfactory</td>\n",
       "      <td>15</td>\n",
       "      <td>Routine Inspection/Field Review</td>\n",
       "      <td>47.625064</td>\n",
       "      <td>-122.356191</td>\n",
       "      <td>10 Mercer Restaurant</td>\n",
       "      <td>Warewashing facilities properly installed,...</td>\n",
       "      <td>5.0</td>\n",
       "      <td>Blue</td>\n",
       "      <td>98109</td>\n",
       "      <td>4100</td>\n",
       "    </tr>\n",
       "    <tr>\n",
       "      <th>3</th>\n",
       "      <td>10 Mercer St</td>\n",
       "      <td>Seattle</td>\n",
       "      <td>N</td>\n",
       "      <td>2016-07-07</td>\n",
       "      <td>Complete</td>\n",
       "      <td>N/A</td>\n",
       "      <td>Consultation/Education - Field</td>\n",
       "      <td>47.625064</td>\n",
       "      <td>-122.356191</td>\n",
       "      <td>10 Mercer Restaurant</td>\n",
       "      <td>None</td>\n",
       "      <td>NaN</td>\n",
       "      <td>None</td>\n",
       "      <td>98109</td>\n",
       "      <td>None</td>\n",
       "    </tr>\n",
       "    <tr>\n",
       "      <th>4</th>\n",
       "      <td>10 Mercer St</td>\n",
       "      <td>Seattle</td>\n",
       "      <td>N</td>\n",
       "      <td>2016-02-24</td>\n",
       "      <td>Unsatisfactory</td>\n",
       "      <td>15</td>\n",
       "      <td>Routine Inspection/Field Review</td>\n",
       "      <td>47.625064</td>\n",
       "      <td>-122.356191</td>\n",
       "      <td>10 Mercer Restaurant</td>\n",
       "      <td>Toxic substances properly identified,...</td>\n",
       "      <td>10.0</td>\n",
       "      <td>Red</td>\n",
       "      <td>98109</td>\n",
       "      <td>2500</td>\n",
       "    </tr>\n",
       "    <tr>\n",
       "      <th>5</th>\n",
       "      <td>10 Mercer St</td>\n",
       "      <td>Seattle</td>\n",
       "      <td>N</td>\n",
       "      <td>2016-02-24</td>\n",
       "      <td>Unsatisfactory</td>\n",
       "      <td>15</td>\n",
       "      <td>Routine Inspection/Field Review</td>\n",
       "      <td>47.625064</td>\n",
       "      <td>-122.356191</td>\n",
       "      <td>10 Mercer Restaurant</td>\n",
       "      <td>Food-contact surfaces maintained, clean, sanit...</td>\n",
       "      <td>5.0</td>\n",
       "      <td>Blue</td>\n",
       "      <td>98109</td>\n",
       "      <td>4200</td>\n",
       "    </tr>\n",
       "  </tbody>\n",
       "</table>\n",
       "</div>"
      ],
      "text/plain": [
       "        address     city inspection_closed_business inspection_date  \\\n",
       "0  10 Mercer St  Seattle                          N      2016-10-10   \n",
       "1  10 Mercer St  Seattle                          N      2016-10-10   \n",
       "2  10 Mercer St  Seattle                          N      2016-10-10   \n",
       "3  10 Mercer St  Seattle                          N      2016-07-07   \n",
       "4  10 Mercer St  Seattle                          N      2016-02-24   \n",
       "5  10 Mercer St  Seattle                          N      2016-02-24   \n",
       "\n",
       "  inspection_result inspection_score                  inspection_type  \\\n",
       "0    Unsatisfactory               15  Routine Inspection/Field Review   \n",
       "1    Unsatisfactory               15  Routine Inspection/Field Review   \n",
       "2    Unsatisfactory               15  Routine Inspection/Field Review   \n",
       "3          Complete              N/A   Consultation/Education - Field   \n",
       "4    Unsatisfactory               15  Routine Inspection/Field Review   \n",
       "5    Unsatisfactory               15  Routine Inspection/Field Review   \n",
       "\n",
       "    latitude   longitude                  name  \\\n",
       "0  47.625064 -122.356191  10 Mercer Restaurant   \n",
       "1  47.625064 -122.356191  10 Mercer Restaurant   \n",
       "2  47.625064 -122.356191  10 Mercer Restaurant   \n",
       "3  47.625064 -122.356191  10 Mercer Restaurant   \n",
       "4  47.625064 -122.356191  10 Mercer Restaurant   \n",
       "5  47.625064 -122.356191  10 Mercer Restaurant   \n",
       "\n",
       "                               violation_description  violation_points  \\\n",
       "0  Raw meats below and away from ready to eat foo...               5.0   \n",
       "1  Proper cold holding temperatures ( 42 degrees ...               5.0   \n",
       "2      Warewashing facilities properly installed,...               5.0   \n",
       "3                                               None               NaN   \n",
       "4           Toxic substances properly identified,...              10.0   \n",
       "5  Food-contact surfaces maintained, clean, sanit...               5.0   \n",
       "\n",
       "  violation_type  zip_code violation_code  \n",
       "0            Red     98109           1400  \n",
       "1            Red     98109           2120  \n",
       "2           Blue     98109           4100  \n",
       "3           None     98109           None  \n",
       "4            Red     98109           2500  \n",
       "5           Blue     98109           4200  "
      ]
     },
     "execution_count": 30,
     "metadata": {},
     "output_type": "execute_result"
    }
   ],
   "source": [
    "df[df.name == '10 Mercer Restaurant']"
   ]
  },
  {
   "cell_type": "code",
   "execution_count": 31,
   "metadata": {},
   "outputs": [
    {
     "data": {
      "text/html": [
       "<div>\n",
       "<style scoped>\n",
       "    .dataframe tbody tr th:only-of-type {\n",
       "        vertical-align: middle;\n",
       "    }\n",
       "\n",
       "    .dataframe tbody tr th {\n",
       "        vertical-align: top;\n",
       "    }\n",
       "\n",
       "    .dataframe thead th {\n",
       "        text-align: right;\n",
       "    }\n",
       "</style>\n",
       "<table border=\"1\" class=\"dataframe\">\n",
       "  <thead>\n",
       "    <tr style=\"text-align: right;\">\n",
       "      <th></th>\n",
       "      <th>address</th>\n",
       "      <th>city</th>\n",
       "      <th>inspection_closed_business</th>\n",
       "      <th>inspection_result</th>\n",
       "      <th>inspection_score</th>\n",
       "      <th>inspection_type</th>\n",
       "      <th>latitude</th>\n",
       "      <th>longitude</th>\n",
       "      <th>name</th>\n",
       "      <th>violation_description</th>\n",
       "      <th>violation_points</th>\n",
       "      <th>violation_type</th>\n",
       "      <th>zip_code</th>\n",
       "      <th>violation_code</th>\n",
       "    </tr>\n",
       "    <tr>\n",
       "      <th>inspection_date</th>\n",
       "      <th></th>\n",
       "      <th></th>\n",
       "      <th></th>\n",
       "      <th></th>\n",
       "      <th></th>\n",
       "      <th></th>\n",
       "      <th></th>\n",
       "      <th></th>\n",
       "      <th></th>\n",
       "      <th></th>\n",
       "      <th></th>\n",
       "      <th></th>\n",
       "      <th></th>\n",
       "      <th></th>\n",
       "    </tr>\n",
       "  </thead>\n",
       "  <tbody>\n",
       "    <tr>\n",
       "      <th>2016-02-24</th>\n",
       "      <td>2</td>\n",
       "      <td>2</td>\n",
       "      <td>2</td>\n",
       "      <td>2</td>\n",
       "      <td>2</td>\n",
       "      <td>2</td>\n",
       "      <td>2</td>\n",
       "      <td>2</td>\n",
       "      <td>2</td>\n",
       "      <td>2</td>\n",
       "      <td>2</td>\n",
       "      <td>2</td>\n",
       "      <td>2</td>\n",
       "      <td>2</td>\n",
       "    </tr>\n",
       "    <tr>\n",
       "      <th>2016-07-07</th>\n",
       "      <td>1</td>\n",
       "      <td>1</td>\n",
       "      <td>1</td>\n",
       "      <td>1</td>\n",
       "      <td>1</td>\n",
       "      <td>1</td>\n",
       "      <td>1</td>\n",
       "      <td>1</td>\n",
       "      <td>1</td>\n",
       "      <td>0</td>\n",
       "      <td>0</td>\n",
       "      <td>0</td>\n",
       "      <td>1</td>\n",
       "      <td>0</td>\n",
       "    </tr>\n",
       "    <tr>\n",
       "      <th>2016-10-10</th>\n",
       "      <td>3</td>\n",
       "      <td>3</td>\n",
       "      <td>3</td>\n",
       "      <td>3</td>\n",
       "      <td>3</td>\n",
       "      <td>3</td>\n",
       "      <td>3</td>\n",
       "      <td>3</td>\n",
       "      <td>3</td>\n",
       "      <td>3</td>\n",
       "      <td>3</td>\n",
       "      <td>3</td>\n",
       "      <td>3</td>\n",
       "      <td>3</td>\n",
       "    </tr>\n",
       "  </tbody>\n",
       "</table>\n",
       "</div>"
      ],
      "text/plain": [
       "                 address  city  inspection_closed_business  inspection_result  \\\n",
       "inspection_date                                                                 \n",
       "2016-02-24             2     2                           2                  2   \n",
       "2016-07-07             1     1                           1                  1   \n",
       "2016-10-10             3     3                           3                  3   \n",
       "\n",
       "                 inspection_score  inspection_type  latitude  longitude  name  \\\n",
       "inspection_date                                                                 \n",
       "2016-02-24                      2                2         2          2     2   \n",
       "2016-07-07                      1                1         1          1     1   \n",
       "2016-10-10                      3                3         3          3     3   \n",
       "\n",
       "                 violation_description  violation_points  violation_type  \\\n",
       "inspection_date                                                            \n",
       "2016-02-24                           2                 2               2   \n",
       "2016-07-07                           0                 0               0   \n",
       "2016-10-10                           3                 3               3   \n",
       "\n",
       "                 zip_code  violation_code  \n",
       "inspection_date                            \n",
       "2016-02-24              2               2  \n",
       "2016-07-07              1               0  \n",
       "2016-10-10              3               3  "
      ]
     },
     "execution_count": 31,
     "metadata": {},
     "output_type": "execute_result"
    }
   ],
   "source": [
    "df[df.name == '10 Mercer Restaurant'].groupby('inspection_date').count()"
   ]
  },
  {
   "cell_type": "code",
   "execution_count": 32,
   "metadata": {},
   "outputs": [
    {
     "data": {
      "text/plain": [
       "<pandas.core.groupby.DataFrameGroupBy object at 0x107b77c88>"
      ]
     },
     "execution_count": 32,
     "metadata": {},
     "output_type": "execute_result"
    }
   ],
   "source": [
    "df[df.name == '10 Mercer Restaurant'].groupby('inspection_date')"
   ]
  },
  {
   "cell_type": "code",
   "execution_count": 33,
   "metadata": {},
   "outputs": [
    {
     "data": {
      "image/png": "[encoded data removed]",
      "text/plain": [
       "<matplotlib.figure.Figure at 0x107b8aa58>"
      ]
     },
     "metadata": {},
     "output_type": "display_data"
    }
   ],
   "source": [
    "# what is the distribution of the number of violations per inspection per business?\n",
    "groupby = df.groupby('name')[['inspection_score','violation_points']].count().reset_index()\n",
    "groupby['violations_per_inspection'] = groupby['violation_points'] / groupby['inspection_score']\n",
    "groupby['violations_per_inspection'].sort_values(ascending=False).hist(color='slategray')\n",
    "plt.xlabel('Number of violations per inspection')\n",
    "plt.ylabel('Number of businesses')\n",
    "plt.tight_layout()"
   ]
  },
  {
   "cell_type": "markdown",
   "metadata": {},
   "source": [
    "Most businesses appear to have 0 violations per inspection (yay!!!)."
   ]
  },
  {
   "cell_type": "code",
   "execution_count": 34,
   "metadata": {},
   "outputs": [
    {
     "data": {
      "image/png": "[encoded data removed]",
      "text/plain": [
       "<matplotlib.figure.Figure at 0x107cbd278>"
      ]
     },
     "metadata": {},
     "output_type": "display_data"
    }
   ],
   "source": [
    "df.groupby('violation_code')['violation_code'].count().plot(kind=\"bar\", color='slategray')\n",
    "plt.xlabel('Violation code')\n",
    "plt.ylabel('Count')\n",
    "plt.tight_layout()"
   ]
  },
  {
   "cell_type": "markdown",
   "metadata": {},
   "source": [
    "## Maps"
   ]
  },
  {
   "cell_type": "code",
   "execution_count": 35,
   "metadata": {},
   "outputs": [],
   "source": [
    "# get a single record for each inspection\n",
    "map_data = df[['name', 'inspection_date', 'inspection_result', 'latitude', 'longitude']].drop_duplicates()\n",
    "# folium doesn't auto discard null lat/long (this is an empty issue, see https://github.com/python-visualization/folium/issues/461)\n",
    "map_data = map_data[(map_data.latitude.isnull() == False) & (map_data.longitude.isnull() == False)]"
   ]
  },
  {
   "cell_type": "code",
   "execution_count": 43,
   "metadata": {},
   "outputs": [],
   "source": [
    "# this outputs to file\n",
    "restaurant_map = folium.Map(location=[map_data['latitude'].mean(), map_data['longitude'].mean()], zoom_start=10)\n",
    "marker_cluster = folium.plugins.MarkerCluster().add_to(restaurant_map)\n",
    "for i, row in map_data.iterrows():\n",
    "    folium.Marker([row['latitude'], row['longitude']], popup='{0}: {1} ({2})'.format(row['name'], row['inspection_result'], row['inspection_date'].date())\n",
    ").add_to(marker_cluster)\n",
    "restaurant_map.save('maps/restaurants.html')"
   ]
  },
  {
   "cell_type": "markdown",
   "metadata": {},
   "source": [
    "Here's a **screenshot** of the resulting map. The map can be viewed interactively by downloading the maps/restaurants.html file locally.\n",
    "\n",
    "![map](maps/map_screenshot.png)"
   ]
  },
  {
   "cell_type": "code",
   "execution_count": 44,
   "metadata": {},
   "outputs": [],
   "source": [
    "test = df.head(5).copy()"
   ]
  },
  {
   "cell_type": "code",
   "execution_count": 45,
   "metadata": {},
   "outputs": [
    {
     "data": {
      "text/plain": [
       "address                                                            10 Mercer St\n",
       "city                                                                    Seattle\n",
       "inspection_closed_business                                                    N\n",
       "inspection_date                                             2016-10-10 00:00:00\n",
       "inspection_result                                                Unsatisfactory\n",
       "inspection_score                                                             15\n",
       "inspection_type                                 Routine Inspection/Field Review\n",
       "latitude                                                                47.6251\n",
       "longitude                                                              -122.356\n",
       "name                                                       10 Mercer Restaurant\n",
       "violation_description         Raw meats below and away from ready to eat foo...\n",
       "violation_points                                                              5\n",
       "violation_type                                                              Red\n",
       "zip_code                                                                  98109\n",
       "violation_code                                                             1400\n",
       "Name: 0, dtype: object"
      ]
     },
     "execution_count": 45,
     "metadata": {},
     "output_type": "execute_result"
    }
   ],
   "source": [
    "test.iloc[0]"
   ]
  },
  {
   "cell_type": "code",
   "execution_count": 46,
   "metadata": {},
   "outputs": [],
   "source": [
    "params = ['attr1', 'attr2', 'attr3']\n",
    "for p in params:\n",
    "    setattr(test, p, 5)"
   ]
  },
  {
   "cell_type": "code",
   "execution_count": 47,
   "metadata": {},
   "outputs": [
    {
     "data": {
      "text/plain": [
       "Index(['address', 'city', 'inspection_closed_business', 'inspection_date',\n",
       "       'inspection_result', 'inspection_score', 'inspection_type', 'latitude',\n",
       "       'longitude', 'name', 'violation_description', 'violation_points',\n",
       "       'violation_type', 'zip_code', 'violation_code'],\n",
       "      dtype='object')"
      ]
     },
     "execution_count": 47,
     "metadata": {},
     "output_type": "execute_result"
    }
   ],
   "source": [
    "test.columns"
   ]
  },
  {
   "cell_type": "code",
   "execution_count": null,
   "metadata": {},
   "outputs": [],
   "source": []
  },
  {
   "cell_type": "code",
   "execution_count": null,
   "metadata": {
    "collapsed": true
   },
   "outputs": [],
   "source": []
  }
 ],
 "metadata": {
  "kernelspec": {
   "display_name": "Python 3",
   "language": "python",
   "name": "python3"
  },
  "language_info": {
   "codemirror_mode": {
    "name": "ipython",
    "version": 3
   },
   "file_extension": ".py",
   "mimetype": "text/x-python",
   "name": "python",
   "nbconvert_exporter": "python",
   "pygments_lexer": "ipython3",
   "version": "3.6.4"
  }
 },
 "nbformat": 4,
 "nbformat_minor": 1
}
